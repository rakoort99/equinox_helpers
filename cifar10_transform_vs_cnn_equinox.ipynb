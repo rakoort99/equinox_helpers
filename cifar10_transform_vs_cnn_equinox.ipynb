{
 "cells": [
  {
   "cell_type": "markdown",
   "metadata": {},
   "source": [
    "### Prelims"
   ]
  },
  {
   "cell_type": "markdown",
   "metadata": {},
   "source": [
    "#### Imports"
   ]
  },
  {
   "cell_type": "code",
   "execution_count": 193,
   "metadata": {},
   "outputs": [
    {
     "name": "stdout",
     "output_type": "stream",
     "text": [
      "The tensorboard extension is already loaded. To reload it, use:\n",
      "  %reload_ext tensorboard\n"
     ]
    }
   ],
   "source": [
    "# Standard libraries\n",
    "import os\n",
    "from typing import Any, Sequence\n",
    "import numpy as np\n",
    "\n",
    "%load_ext tensorboard\n",
    "\n",
    "# JAX/Equinox\n",
    "import jax\n",
    "import jax.numpy as jnp\n",
    "from jax import random\n",
    "import equinox as eqx\n",
    "\n",
    "# PyTorch for data loading\n",
    "import torch\n",
    "import torch.utils.data as data\n",
    "\n",
    "## Imports for plotting\n",
    "import matplotlib.pyplot as plt\n",
    "import seaborn as sns\n",
    "\n",
    "## equinox helper funcitons\n",
    "from eqx_helpers import EqxTrainerModule, create_data_loaders\n",
    "\n",
    "sns.reset_orig()\n",
    "sns.set_theme()\n",
    "\n",
    "DATASET_PATH = os.path.join(os.getcwd(), \"data\")\n",
    "CHECKPOINT_PATH = os.path.join(os.getcwd(), \"saved_models\\\\cifar_mess\\\\\")"
   ]
  },
  {
   "cell_type": "markdown",
   "metadata": {},
   "source": [
    "#### Load Data"
   ]
  },
  {
   "cell_type": "code",
   "execution_count": 194,
   "metadata": {},
   "outputs": [
    {
     "name": "stdout",
     "output_type": "stream",
     "text": [
      "Files already downloaded and verified\n",
      "Files already downloaded and verified\n",
      "Files already downloaded and verified\n"
     ]
    }
   ],
   "source": [
    "from torchvision.datasets import CIFAR10\n",
    "from torchvision import transforms\n",
    "\n",
    "# Transformations applied on each image => bring them into a numpy array\n",
    "DATA_MEANS = np.array([0.49139968, 0.48215841, 0.44653091])\n",
    "DATA_STD = np.array([0.24703223, 0.24348513, 0.26158784])\n",
    "\n",
    "\n",
    "def image_to_numpy(img):\n",
    "    img = np.array(img, dtype=np.float32)\n",
    "    img = (img / 255.0 - DATA_MEANS) / DATA_STD\n",
    "    return img.transpose(2,0,1)\n",
    "\n",
    "\n",
    "def img_restore(img):\n",
    "    img = img.transpose(1,2,0)\n",
    "    img = ((img * DATA_STD) + DATA_MEANS) * 255.0\n",
    "    img = np.array(img, dtype=np.int32)\n",
    "    return img\n",
    "\n",
    "# augmentation step\n",
    "test_transform = transforms.Compose(\n",
    "    [   image_to_numpy,\n",
    "    ]\n",
    ")\n",
    "train_transform = transforms.Compose(\n",
    "    [   transforms.TrivialAugmentWide(),\n",
    "        image_to_numpy,\n",
    "    ]\n",
    ")\n",
    "\n",
    "# we don't want to augment the validation data, so we split this up\n",
    "train_dataset = CIFAR10(\n",
    "    root=DATASET_PATH, train=True, transform=train_transform, download=True\n",
    ")\n",
    "val_dataset = CIFAR10(\n",
    "    root=DATASET_PATH, train=True, transform=test_transform, download=True\n",
    ") # note that we use `test_transform here`\n",
    "\n",
    "\n",
    "# we split with the same seed, but using the transformed and untransformed data separately\n",
    "train_set, _ = data.random_split(\n",
    "    train_dataset, [45000, 5000], generator=torch.Generator().manual_seed(42)\n",
    ")\n",
    "_, val_set = data.random_split(\n",
    "    val_dataset, [45000, 5000], generator=torch.Generator().manual_seed(42)\n",
    ")\n",
    "\n",
    "# Loading the test set\n",
    "test_set = CIFAR10(\n",
    "    root=DATASET_PATH, train=False, transform=test_transform, download=True\n",
    ")\n",
    "\n",
    "#reducing the size of the data by 96% for testing:\n",
    "_, train_set = data.random_split(\n",
    "    train_set, [43200, 1800], generator=torch.Generator().manual_seed(42)\n",
    ")\n",
    "\n",
    "_, val_set = data.random_split(\n",
    "    val_set, [4800, 200], generator=torch.Generator().manual_seed(42)\n",
    ")\n",
    "_, test_set = data.random_split(\n",
    "    test_set, [9600, 400], generator=torch.Generator().manual_seed(42)\n",
    ")\n",
    "\n",
    "\n",
    "\n",
    "train_loader, val_loader, test_loader = create_data_loaders(\n",
    "    train_set, val_set, test_set, train=[True, False, False], batch_size= 200 #256\n",
    ")"
   ]
  },
  {
   "cell_type": "markdown",
   "metadata": {},
   "source": [
    "### CNN model"
   ]
  },
  {
   "cell_type": "markdown",
   "metadata": {},
   "source": [
    "#### define model, blocks"
   ]
  },
  {
   "cell_type": "code",
   "execution_count": 170,
   "metadata": {},
   "outputs": [],
   "source": [
    "class NormedConv_Block(eqx.Module):\n",
    "    conv: eqx.nn.LayerNorm\n",
    "    pool: eqx.nn.MaxPool2d\n",
    "    drop: eqx.nn.Dropout\n",
    "    batch_norm: eqx.nn.LayerNorm\n",
    "\n",
    "    def __init__(\n",
    "        self,\n",
    "        input_shape: Sequence[int] = (3,32,32),\n",
    "        out_channels: int = 16,\n",
    "        conv_window: int = 3,\n",
    "        pooling_kernel: int = 2,\n",
    "        pooling_stride: int = 1,\n",
    "        drop_rate: int = 0.0,\n",
    "        key: jax.Array = random.key(42),\n",
    "    ):\n",
    "        \"\"\"Block with the following layers:\n",
    "        2D convolution -> 2D pooling -> RELU activation -> batch normalization\n",
    "\n",
    "        Args:\n",
    "            input_shape (Sequence[int], optional): Shape of (unbatched) input. Order is Channel, Height, Width. Defaults to (3,32,32).\n",
    "            out_channels (int, optional): Number of output channels. Defaults to 16.\n",
    "            conv_window (int, optional): Size of 2d convolutional window. Defaults to 3.\n",
    "            pooling_kernel (int, optional): Kernel for 2d max pooling. Defaults to 2.\n",
    "            pooling_stride (int, optional): Stride length for pooling. Defaults to 1.\n",
    "            drop_rate (int, optional): Dropout rate. Defaults to 0.0.\n",
    "            key (jax.Array, optional): PRNGKey. Defaults to random.key(42).\n",
    "        \"\"\"            \n",
    "        self.conv = eqx.nn.Conv2d(\n",
    "            input_shape[0], out_channels, kernel_size=conv_window, key=key\n",
    "        )\n",
    "        if pooling_kernel == pooling_stride == 1:\n",
    "            self.pool = eqx.nn.Identity()\n",
    "        else:\n",
    "            self.pool = eqx.nn.MaxPool2d(pooling_kernel, stride=pooling_stride)\n",
    "        self.drop = eqx.nn.Dropout(drop_rate)\n",
    "\n",
    "        new_H = (\n",
    "            int(((input_shape[1] - conv_window) + 1 - pooling_kernel) / pooling_stride)\n",
    "            + 1\n",
    "        )\n",
    "        input_shape = (out_channels, new_H, new_H)\n",
    "        self.batch_norm = eqx.nn.BatchNorm(out_channels, \"batch\", momentum=0.5)\n",
    "        # self.batch_norm = eqx.nn.LayerNorm(input_shape[1:])\n",
    "\n",
    "    def __call__(self, x, key, state, train=True):\n",
    "        x = self.conv(x)\n",
    "        x = self.pool(x)\n",
    "        x = jax.nn.relu(x)\n",
    "        x = self.drop(x, key=key, inference=not train)\n",
    "        x, state = self.batch_norm(x, state, inference=not train)\n",
    "        # x = jax.vmap(self.batch_norm)(x)\n",
    "        return x, state\n",
    "\n",
    "\n",
    "class NormedDense_Block(eqx.Module):\n",
    "    dense: eqx.nn.Linear\n",
    "    drop: eqx.nn.Dropout\n",
    "    batch_norm: eqx.nn.BatchNorm\n",
    "\n",
    "    def __init__(self, \n",
    "                 in_dim: int = 64, \n",
    "                 out_dim: int = 10, \n",
    "                 drop_rate: float = 0.0,\n",
    "                 key: jax.Array = random.key(42)):\n",
    "        \"\"\"Block with the following layers:\n",
    "        Linear NN -> RELU activation -> layer normalization\n",
    "\n",
    "        Args:\n",
    "            in_dim (int, optional): (Unbatched) input dimension. Defaults to 64.\n",
    "            out_dim (int, optional): (Unbatched) output dimension. Defaults to 10.\n",
    "            drop_rate (float, optional): Dropout rate. Defaults to 0.0.\n",
    "            key (jax.Array, optional): PRNGKey. Defaults to random.key(42).\n",
    "        \"\"\"        \n",
    "        self.dense = eqx.nn.Linear(in_dim, out_dim, key=key)\n",
    "        self.drop = eqx.nn.Dropout(drop_rate)\n",
    "        # self.batch_norm = eqx.nn.BatchNorm(out_dim, \"batch\")\n",
    "        self.batch_norm = eqx.nn.LayerNorm(out_dim)\n",
    "\n",
    "    def __call__(self, x, key, state, train=True):\n",
    "        x = self.dense(x)\n",
    "        x = jax.nn.relu(x)\n",
    "        x = self.drop(x, key=key, inference=not train)\n",
    "        # x, state = self.batch_norm(x, state, inference=not train)\n",
    "        x = self.batch_norm(x)\n",
    "        return x, state"
   ]
  },
  {
   "cell_type": "code",
   "execution_count": 171,
   "metadata": {},
   "outputs": [],
   "source": [
    "class eqx_CNN_Classifier(eqx.Module):\n",
    "    conv_layers: Sequence[NormedConv_Block]\n",
    "    linear_layers: Sequence[NormedDense_Block]\n",
    "\n",
    "    def __init__(\n",
    "        self,\n",
    "        input_shape: Sequence[int] = (3, 32, 32),\n",
    "        num_classes: int = 10,\n",
    "        conv_channels: Sequence[int] = [16],\n",
    "        conv_windows: Sequence[int] = [5],\n",
    "        pooling_kernel: Sequence[int] = [2],\n",
    "        pooling_stride: Sequence[int] = [2],\n",
    "        conv_drop: float = 0.0,\n",
    "        hidden_dims: Sequence[int] = [64],\n",
    "        dense_drop: float = 0.0,\n",
    "        key: jax.Array = random.key(42),\n",
    "    ):\n",
    "        \"\"\"Classifier formed by stacking convolutional and dense blocks.\n",
    "\n",
    "        Args:\n",
    "            input_shape (Sequence[int], optional): (Unbatched) shape of input. Order is Channel, Height, Width. Defaults to (3, 32, 32).\n",
    "            num_classes (int, optional): Number of classes to predict. Shape of final dense output. Defaults to 10.\n",
    "            conv_channels (Sequence[int], optional): Number of channels for each convolutional layer. Defaults to [16].\n",
    "            conv_windows (Sequence[int], optional): Window size for each convolutional layer. Defaults to [5].\n",
    "            pooling_kernel (Sequence[int], optional): Kernel size for each convolutional layer. Defaults to [2].\n",
    "            pooling_stride (Sequence[int], optional): Stride length for each convolutional layer. Defaults to [2].\n",
    "            conv_drop (float, optional): Dropout rate for convolutional layers. Defaults to 0.0.\n",
    "            hidden_dims (Sequence[int], optional): Hidden dims for intermediate dense layers. Defaults to [64].\n",
    "            dense_drop (float, optional): Dropout for dense layers. Defaults to 0.0.\n",
    "            key (jax.Array, optional): PRNGKey. Defaults to random.key(42).\n",
    "        \"\"\"        \n",
    "        def assert_equal_length(*sequences):\n",
    "            # Calculate the lengths of all sequences\n",
    "            lengths = [len(seq) for seq in sequences]\n",
    "\n",
    "            # Check if all lengths are equal to the first length in the list\n",
    "            assert all(\n",
    "                length == lengths[0] for length in lengths\n",
    "            ), f\"Sequences defining ConvSA block are of different lengths: {lengths}\"\n",
    "\n",
    "        assert_equal_length(conv_channels, conv_windows, pooling_kernel, pooling_stride)\n",
    "        \n",
    "        # establish convulutional layers\n",
    "        self.conv_layers = []\n",
    "        key, *conv_keys = random.split(key, num=len(conv_channels) + 1)\n",
    "        conv_iterator = enumerate(\n",
    "            zip(conv_windows, conv_channels, pooling_kernel, pooling_stride, conv_keys)\n",
    "        )\n",
    "        for i, (cw, cf, pk, ps, k) in conv_iterator:\n",
    "            self.conv_layers.append(\n",
    "                NormedConv_Block(\n",
    "                    input_shape=input_shape,\n",
    "                    out_channels=cf,\n",
    "                    conv_window=cw,\n",
    "                    pooling_kernel=pk,\n",
    "                    pooling_stride=ps,\n",
    "                    key=k,\n",
    "                    drop_rate=conv_drop,\n",
    "                )\n",
    "            )\n",
    "\n",
    "            new_H = (\n",
    "                int(\n",
    "                    ((input_shape[1] - conv_windows[i]) + 1 - pooling_kernel[i])\n",
    "                    / pooling_stride[i]\n",
    "                )\n",
    "                + 1\n",
    "            )\n",
    "            input_shape = (cf, new_H, new_H)\n",
    "\n",
    "        # establish linear layers\n",
    "        self.linear_layers = []\n",
    "        key, *lin_keys = random.split(key, num=len(hidden_dims) + 1)\n",
    "        input_shape = np.prod(input_shape)\n",
    "        for i, (hidden_dim, k) in enumerate(zip(hidden_dims, lin_keys)):\n",
    "            self.linear_layers.append(\n",
    "                NormedDense_Block(\n",
    "                    in_dim=input_shape, out_dim=hidden_dim, key=k, drop_rate=dense_drop\n",
    "                )\n",
    "            )\n",
    "            input_shape = hidden_dim\n",
    "        self.linear_layers.append(\n",
    "            NormedDense_Block(\n",
    "                in_dim=input_shape, out_dim=num_classes, key=key, drop_rate=0\n",
    "            )\n",
    "        )\n",
    "\n",
    "    def __call__(self, x, key, state, train=True):\n",
    "        subkey, *conv_keys = random.split(key, num=len(self.conv_layers) + 1)\n",
    "        for layer, k in zip(self.conv_layers, conv_keys):\n",
    "            x, state = layer(x, k, state=state, train=train)\n",
    "        x = jnp.ravel(x)\n",
    "        subkey, *lin_keys = random.split(subkey, num=len(self.linear_layers) + 1)\n",
    "        for layer, k in zip(self.linear_layers, lin_keys):\n",
    "            x, state = layer(x, k, state=state, train=train)\n",
    "        x = jax.nn.log_softmax(x)\n",
    "        return x, state"
   ]
  },
  {
   "cell_type": "markdown",
   "metadata": {},
   "source": [
    "#### Set up trainer"
   ]
  },
  {
   "cell_type": "code",
   "execution_count": 172,
   "metadata": {},
   "outputs": [],
   "source": [
    "import optuna\n",
    "\n",
    "\n",
    "class CNNClassTrainer(EqxTrainerModule):\n",
    "    def __init__(\n",
    "        self,\n",
    "        conv_windows: Sequence[int],\n",
    "        conv_channels: Sequence[int],\n",
    "        pooling_kernel: Sequence[bool],\n",
    "        pooling_stride: Sequence[bool],\n",
    "        hidden_dims: Sequence[int],\n",
    "        input_shape: int,\n",
    "        num_classes: int,\n",
    "        conv_drop: float = 0.0,\n",
    "        dense_drop: float = 0.0,\n",
    "        trial: Any = None,\n",
    "        **kwargs,\n",
    "    ):\n",
    "        self.trial = trial\n",
    "        super().__init__(\n",
    "            model_class=eqx_CNN_Classifier,\n",
    "            model_hparams={\n",
    "                \"conv_windows\": conv_windows,\n",
    "                \"conv_channels\": conv_channels,\n",
    "                \"pooling_kernel\": pooling_kernel,\n",
    "                \"pooling_stride\": pooling_stride,\n",
    "                \"input_shape\": input_shape,\n",
    "                \"hidden_dims\": hidden_dims,\n",
    "                \"num_classes\": num_classes,\n",
    "                \"conv_drop\": conv_drop,\n",
    "                \"dense_drop\": dense_drop,\n",
    "            },\n",
    "            **kwargs,\n",
    "        )\n",
    "\n",
    "    def create_functions(self):\n",
    "        def loss_function(model, x, y, key, state, train=True):\n",
    "            model_out, state = jax.vmap(\n",
    "                model,\n",
    "                axis_name=\"batch\",\n",
    "                in_axes=(0, None, None, None),\n",
    "                out_axes=(0, None),\n",
    "            )(x, key, state, train)\n",
    "            # since we use log_softmax, cross entropy is just the value of our model output\n",
    "            # indexed by the true value of y.\n",
    "            loss = jnp.take_along_axis(model_out, jnp.expand_dims(y, 1), axis=1)\n",
    "            loss = -jnp.mean(loss)\n",
    "\n",
    "            pred_y = jnp.argmax(model_out, axis=1)\n",
    "            acc = jnp.mean(y == pred_y)\n",
    "            return loss, (acc, state)\n",
    "\n",
    "        def train_step(model, opt_state, batch, key, state):\n",
    "            x, y = batch\n",
    "            (loss, (acc, state)), grads = eqx.filter_value_and_grad(\n",
    "                loss_function, has_aux=True\n",
    "            )(model, x, y, key, state)\n",
    "            updates, opt_state = self.opt.update(grads, opt_state, model)\n",
    "            model = eqx.apply_updates(model, updates)\n",
    "            metrics = {\"loss\": loss, \"acc\": acc}\n",
    "            return model, opt_state, metrics, state\n",
    "\n",
    "        def eval_step(model, batch, key, state):\n",
    "            x, y = batch\n",
    "            _, (acc, _) = loss_function(model, x, y, key, state, train=False)\n",
    "            return {\"acc\": acc}\n",
    "\n",
    "        return train_step, eval_step\n",
    "\n",
    "    def on_validation_epoch_end(self, epoch_idx, eval_metrics, val_loader):\n",
    "        if self.trial:\n",
    "            self.trial.report(eval_metrics[\"val/acc\"], step=epoch_idx)\n",
    "            if self.trial.should_prune():\n",
    "                raise optuna.exceptions.TrialPruned()\n",
    "\n",
    "    def bind_model(self):\n",
    "        \"\"\"\n",
    "        Returns a batched model with parameters bound to it. Enables an easier inference\n",
    "        access.\n",
    "\n",
    "        Returns:\n",
    "          The model with `key`, `state`, `train`, baked in, such that it only takes x input\n",
    "        \"\"\"\n",
    "\n",
    "        def mod(x):\n",
    "            model_out, state = jax.vmap(\n",
    "                self.model,\n",
    "                axis_name=\"batch\",\n",
    "                in_axes=(0, None, None, None),\n",
    "                out_axes=(0, None),\n",
    "            )(x, self.key, self.state, False)\n",
    "            return model_out\n",
    "\n",
    "        return mod\n",
    "\n",
    "    def vizualize_grad_norms(self, batch):\n",
    "        \"\"\"Plots histogram of gradient norms of model leaves\n",
    "            interior functiosn are 75% copy-paste from `create_functions`\n",
    "        \"\"\"\n",
    "\n",
    "        def loss_function(model, x, y, key, state, train=True):\n",
    "            model_out, state = jax.vmap(\n",
    "                model,\n",
    "                axis_name=\"batch\",\n",
    "                in_axes=(0, None, None, None),\n",
    "                out_axes=(0, None),\n",
    "            )(x, key, state, train)\n",
    "            # since we use log_softmax, cross entropy is just the value of our model output\n",
    "            # indexed by the true value of y.\n",
    "            loss = jnp.take_along_axis(model_out, jnp.expand_dims(y, 1), axis=1)\n",
    "            loss = -jnp.mean(loss)\n",
    "\n",
    "            pred_y = jnp.argmax(model_out, axis=1)\n",
    "            acc = jnp.mean(y == pred_y)\n",
    "            return loss, (acc, state)\n",
    "\n",
    "        def get_grad_and_path(model, batch, key, state):\n",
    "            x, y = batch\n",
    "            (loss, (acc, state)), grads = eqx.filter_value_and_grad(\n",
    "                loss_function, has_aux=True\n",
    "            )(model, x, y, key, state)\n",
    "            dt = jax.tree_util.tree_leaves_with_path(grads)\n",
    "            grads, names = [], []\n",
    "            for (\n",
    "                path,\n",
    "                grad,\n",
    "            ) in (\n",
    "                dt\n",
    "            ):  # filter basic info we don't care about (bias terms, normalization)\n",
    "                if (\n",
    "                    (len(grad.shape) > 1)\n",
    "                    and (path[-1].name != \"bias\")\n",
    "                    and (not path[-2].name.endswith(\"norm\"))\n",
    "                ):\n",
    "                    grads.append(grad.reshape(-1))\n",
    "                    names.append(path[-2].name + \"_\" + path[-1].name)\n",
    "            return grads, names\n",
    "\n",
    "        def viz_grads(grads, names, color=\"C0\"):\n",
    "            columns = len(grads)\n",
    "            fig, ax = plt.subplots(1, columns, figsize=(columns * 3.5, 2.5))\n",
    "            for g_idx, g in enumerate(grads):\n",
    "                key = f\"{names[g_idx]}\"\n",
    "                key_ax = ax[g_idx % columns]\n",
    "                sns.histplot(data=g, bins=30, ax=key_ax, color=color, kde=True)\n",
    "                key_ax.set_title(str(key))\n",
    "                key_ax.set_xlabel(\"Grad magnitude\")\n",
    "            fig.suptitle(\"Gradient magnitude distributions\", fontsize=14, y=1.05)\n",
    "            fig.subplots_adjust(wspace=0.45)\n",
    "            plt.show()\n",
    "            plt.close()\n",
    "\n",
    "        grads, names = get_grad_and_path(self.model, batch, self.key, self.state)\n",
    "        viz_grads(grads, names)"
   ]
  },
  {
   "cell_type": "code",
   "execution_count": 173,
   "metadata": {},
   "outputs": [],
   "source": [
    "trainer = CNNClassTrainer(\n",
    "    conv_windows=[3, 5],\n",
    "    conv_channels=[16, 32],\n",
    "    pooling_kernel=[2, 2],\n",
    "    pooling_stride=[2, 2],\n",
    "    hidden_dims=[64],\n",
    "    input_shape=(3, 32, 32),\n",
    "    num_classes=10,\n",
    "    conv_drop=0.0,\n",
    "    dense_drop=0.25,\n",
    "    optimizer_hparams={\"optimizer\": \"nadamw\", \"lr\": 5e-3},\n",
    "    logger_params={\n",
    "        \"base_log_dir\": CHECKPOINT_PATH, # model params, checkpointed models, and TensorBoard events files go here \n",
    "    },\n",
    "    check_val_every_n_epoch=5, # this means the model is checkpointed every fifth epoch\n",
    "    seed=42,\n",
    "    debug=False,\n",
    ")\n"
   ]
  },
  {
   "cell_type": "markdown",
   "metadata": {},
   "source": [
    "#### Train Model"
   ]
  },
  {
   "cell_type": "code",
   "execution_count": 174,
   "metadata": {},
   "outputs": [
    {
     "data": {
      "application/vnd.jupyter.widget-view+json": {
       "model_id": "c47d25c9691942fd971e487e8cf46a99",
       "version_major": 2,
       "version_minor": 0
      },
      "text/plain": [
       "Epochs:   0%|          | 0/5 [00:00<?, ?it/s]"
      ]
     },
     "metadata": {},
     "output_type": "display_data"
    }
   ],
   "source": [
    "metrics = trainer.train_model(train_loader, val_loader, test_loader, 5)"
   ]
  },
  {
   "cell_type": "markdown",
   "metadata": {},
   "source": [
    "#### Model Evaluation"
   ]
  },
  {
   "cell_type": "code",
   "execution_count": 175,
   "metadata": {},
   "outputs": [
    {
     "name": "stdout",
     "output_type": "stream",
     "text": [
      "Validation accuracy: 39.50%\n",
      "Test accuracy: 40.50%\n"
     ]
    }
   ],
   "source": [
    "print(f'Validation accuracy: {metrics[\"val/acc\"]:4.2%}')\n",
    "print(f'Test accuracy: {metrics[\"test/acc\"]:4.2%}')"
   ]
  },
  {
   "cell_type": "code",
   "execution_count": 176,
   "metadata": {},
   "outputs": [
    {
     "data": {
      "text/plain": [
       "'c:\\\\Users\\\\austin\\\\Desktop\\\\Research\\\\random\\\\saved_models\\\\cifar_mess\\\\eqx_CNN_Classifier\\\\version_0'"
      ]
     },
     "execution_count": 176,
     "metadata": {},
     "output_type": "execute_result"
    }
   ],
   "source": [
    "trainer.log_dir"
   ]
  },
  {
   "cell_type": "code",
   "execution_count": 177,
   "metadata": {},
   "outputs": [
    {
     "data": {
      "image/png": "[encoded data removed]",
      "text/plain": [
       "<Figure size 1400x250 with 4 Axes>"
      ]
     },
     "metadata": {},
     "output_type": "display_data"
    }
   ],
   "source": [
    "batch = next(iter(train_loader))\n",
    "trainer.vizualize_grad_norms(batch) # I didn't jit this funciton so it takes a bit\n",
    "\n",
    "# some suspicious distributions. do we need to change out activations/initializations?"
   ]
  },
  {
   "cell_type": "code",
   "execution_count": 178,
   "metadata": {},
   "outputs": [],
   "source": [
    "# confirm loading checkpoints works properly!\n",
    "\n",
    "imgs, y = batch\n",
    "mod = trainer.bind_model()\n",
    "\n",
    "trainer2 = CNNClassTrainer.load_from_checkpoint(os.path.join(CHECKPOINT_PATH, r'eqx_CNN_Classifier\\\\version_0') )\n",
    "mod2 = trainer2.bind_model()\n",
    "\n",
    "pred = mod(imgs).argmax(-1) # our model ends with log-softmax\n",
    "pred2 = mod2(imgs).argmax(-1)\n",
    "\n",
    "assert jnp.all(pred2 == pred)"
   ]
  },
  {
   "cell_type": "code",
   "execution_count": 179,
   "metadata": {},
   "outputs": [
    {
     "name": "stdout",
     "output_type": "stream",
     "text": [
      "0.66999996\n"
     ]
    }
   ],
   "source": [
    "print((pred != y).mean())\n",
    "misclass_imgs = imgs[pred != y]\n",
    "bad_pred = pred[pred != y]\n",
    "real_answer = y[pred != y]\n",
    "\n",
    "labels = [\n",
    "    \"airplane\",\n",
    "    \"automobile\",\n",
    "    \"bird\",\n",
    "    \"cat\",\n",
    "    \"deer\",\n",
    "    \"dog\",\n",
    "    \"frog\",\n",
    "    \"horse\",\n",
    "    \"ship\",\n",
    "    \"truck\",\n",
    "]"
   ]
  },
  {
   "cell_type": "code",
   "execution_count": 181,
   "metadata": {},
   "outputs": [
    {
     "name": "stdout",
     "output_type": "stream",
     "text": [
      "predicted: horse\n",
      "real: deer\n"
     ]
    },
    {
     "data": {
      "text/plain": [
       "<matplotlib.image.AxesImage at 0x156cfd4b9d0>"
      ]
     },
     "execution_count": 181,
     "metadata": {},
     "output_type": "execute_result"
    },
    {
     "data": {
      "image/png": "[encoded data removed]",
      "text/plain": [
       "<Figure size 640x480 with 1 Axes>"
      ]
     },
     "metadata": {},
     "output_type": "display_data"
    }
   ],
   "source": [
    "i = 2\n",
    "print(f\"predicted: {labels[bad_pred[i]]}\")\n",
    "print(f\"real: {labels[real_answer[i]]}\")\n",
    "plt.imshow(img_restore(misclass_imgs[i]))"
   ]
  },
  {
   "cell_type": "markdown",
   "metadata": {},
   "source": [
    "### CNN with attention"
   ]
  },
  {
   "cell_type": "markdown",
   "metadata": {},
   "source": [
    "#### define blocks, model"
   ]
  },
  {
   "cell_type": "code",
   "execution_count": 182,
   "metadata": {},
   "outputs": [],
   "source": [
    "class NormedConvSA_Block(eqx.Module):\n",
    "    conv: eqx.nn.Conv2d\n",
    "    pool: eqx.nn.MaxPool2d\n",
    "    drop: eqx.nn.Dropout\n",
    "    batch_norm1: eqx.nn.BatchNorm\n",
    "    batch_norm2: eqx.nn.BatchNorm\n",
    "    attention: eqx.nn.MultiheadAttention\n",
    "    input_shape: tuple\n",
    "\n",
    "    def __init__(\n",
    "        self,\n",
    "        input_shape: Sequence[int] = (3, 32, 32),\n",
    "        out_channels: int = 16,\n",
    "        conv_window: int = 3,\n",
    "        pooling_kernel: int = 2,\n",
    "        pooling_stride: int = 1,\n",
    "        drop_rate: int = 0.0,\n",
    "        key: jax.Array = random.key(42),\n",
    "    ):\n",
    "        \"\"\"Block with the following layers:\n",
    "        2D convolution -> 2D pooling -> RELU activation -> batch norm -> self-attention -> batch norm\n",
    "\n",
    "        Args:\n",
    "            input_shape (Sequence[int], optional): Shape of (unbatched) input. Order is Channel, Height, Width. Defaults to (3,32,32).\n",
    "            out_channels (int, optional): Number of output channels. Defaults to 16.\n",
    "            conv_window (int, optional): Size of 2d convolutional window. Defaults to 3.\n",
    "            pooling_kernel (int, optional): Kernel for 2d max pooling. Defaults to 2.\n",
    "            pooling_stride (int, optional): Stride length for pooling. Defaults to 1.\n",
    "            drop_rate (int, optional): Dropout rate. Defaults to 0.0.\n",
    "            key (jax.Array, optional): PRNGKey. Defaults to random.key(42).\n",
    "        \"\"\"          \n",
    "        key1, key2 = random.split(key)\n",
    "        self.conv = eqx.nn.Conv2d(\n",
    "            input_shape[0], out_channels, kernel_size=conv_window, key=key1\n",
    "        )\n",
    "        if pooling_kernel == pooling_stride == 1:\n",
    "            self.pool = eqx.nn.Identity()\n",
    "        else:\n",
    "            self.pool = eqx.nn.MaxPool2d(pooling_kernel, stride=pooling_stride)\n",
    "        self.drop = eqx.nn.Dropout(drop_rate)\n",
    "\n",
    "        new_H = (\n",
    "            int(((input_shape[1] - conv_window) + 1 - pooling_kernel) / pooling_stride)\n",
    "            + 1\n",
    "        )\n",
    "        self.input_shape = (out_channels, new_H, new_H)\n",
    "        self.batch_norm1 = eqx.nn.BatchNorm(out_channels, \"batch\", momentum=0.5)\n",
    "        self.batch_norm2 = eqx.nn.BatchNorm(out_channels, \"batch\", momentum=0.5)\n",
    "        # self.batch_norm1 = eqx.nn.LayerNorm(self.input_shape[1:])\n",
    "        # self.batch_norm2 = eqx.nn.LayerNorm(self.input_shape[1:])\n",
    "\n",
    "        self.attention = eqx.nn.MultiheadAttention(\n",
    "            1, new_H**2, key=key2, dropout_p=drop_rate\n",
    "        )\n",
    "\n",
    "    def __call__(self, x, key: jax.Array, state=None, train=True):\n",
    "        key1, key2 = random.split(key)\n",
    "        x = self.conv(x)\n",
    "        x = self.pool(x)\n",
    "        x = jax.nn.relu(x)\n",
    "        x = self.drop(x, key=key1, inference=not train)\n",
    "        x, state = self.batch_norm1(x, state, inference=not train)\n",
    "        # x = jax.vmap(self.batch_norm1)(x)\n",
    "        x_q = jnp.reshape(\n",
    "            x, (self.input_shape[0], self.input_shape[1] * self.input_shape[2])\n",
    "        )\n",
    "        attn = self.attention(x_q, x_q, x_q, key=key2, inference=not train)\n",
    "        attn = jnp.reshape(\n",
    "            attn, (self.input_shape[0], self.input_shape[1], self.input_shape[2])\n",
    "        )\n",
    "        # x = jax.vmap(self.batch_norm2)(x + attn)\n",
    "        x, state = self.batch_norm2(x+attn, state, inference=not train)\n",
    "        return x, state\n"
   ]
  },
  {
   "cell_type": "code",
   "execution_count": 183,
   "metadata": {},
   "outputs": [],
   "source": [
    "class eqx_CNN_SA_Classifier(eqx.Module):\n",
    "    conv_layers: Sequence[NormedConvSA_Block]\n",
    "    linear_layers: Sequence[NormedDense_Block]\n",
    "\n",
    "    def __init__(\n",
    "        self,\n",
    "        input_shape: Sequence[int] = (3, 32, 32),\n",
    "        num_classes: int = 10,\n",
    "        conv_channels: Sequence[int] = [16],\n",
    "        conv_windows: Sequence[int] = [5],\n",
    "        pooling_kernel: Sequence[int] = [2],\n",
    "        pooling_stride: Sequence[int] = [2],\n",
    "        conv_drop: float = 0.0,\n",
    "        hidden_dims: Sequence[int] = [64],\n",
    "        dense_drop: float = 0.0,\n",
    "        key: jax.Array = random.key(42),\n",
    "    ):\n",
    "        \"\"\"Classifier formed by stacking convolutional+self attention and dense blocks.\n",
    "\n",
    "    Args:\n",
    "        input_shape (Sequence[int], optional): (Unbatched) shape of input. Order is Channel, Height, Width. Defaults to (3, 32, 32).\n",
    "        num_classes (int, optional): Number of classes to predict. Shape of final dense output. Defaults to 10.\n",
    "        conv_channels (Sequence[int], optional): Number of channels for each convolutional layer. Defaults to [16].\n",
    "        conv_windows (Sequence[int], optional): Window size for each convolutional layer. Defaults to [5].\n",
    "        pooling_kernel (Sequence[int], optional): Kernel size for each convolutional layer. Defaults to [2].\n",
    "        pooling_stride (Sequence[int], optional): Stride length for each convolutional layer. Defaults to [2].\n",
    "        conv_drop (float, optional): Dropout rate for convolutional layers. Defaults to 0.0.\n",
    "        hidden_dims (Sequence[int], optional): Hidden dims for intermediate dense layers. Defaults to [64].\n",
    "        dense_drop (float, optional): Dropout for dense layers. Defaults to 0.0.\n",
    "        key (jax.Array, optional): PRNGKey. Defaults to random.key(42).\n",
    "        \"\"\"        \n",
    "        def assert_equal_length(*sequences):\n",
    "            # Calculate the lengths of all sequences\n",
    "            lengths = [len(seq) for seq in sequences]\n",
    "\n",
    "            # Check if all lengths are equal to the first length in the list\n",
    "            assert all(\n",
    "                length == lengths[0] for length in lengths\n",
    "            ), f\"Sequences defining ConvSA block are of different lengths: {lengths}\"\n",
    "\n",
    "        assert_equal_length(conv_channels, conv_windows, pooling_kernel, pooling_stride)\n",
    "\n",
    "        # establish convulutional layers\n",
    "        self.conv_layers = []\n",
    "        key, *conv_keys = random.split(key, num=len(conv_channels) + 1)\n",
    "        conv_iterator = enumerate(\n",
    "            zip(conv_windows, conv_channels, pooling_kernel, pooling_stride, conv_keys)\n",
    "        )\n",
    "        for i, (cw, cf, pk, ps, k) in conv_iterator:\n",
    "            self.conv_layers.append(\n",
    "                NormedConvSA_Block(\n",
    "                    input_shape=input_shape,\n",
    "                    out_channels=cf,\n",
    "                    conv_window=cw,\n",
    "                    pooling_kernel=pk,\n",
    "                    pooling_stride=ps,\n",
    "                    key=k,\n",
    "                    drop_rate=conv_drop,\n",
    "                )\n",
    "            )\n",
    "\n",
    "            # necessary to track input shapes for each layer, follows basic convolution shape formula\n",
    "            new_H = (\n",
    "                int(\n",
    "                    ((input_shape[1] - conv_windows[i]) + 1 - pooling_kernel[i])\n",
    "                    / pooling_stride[i]\n",
    "                )\n",
    "                + 1\n",
    "            )\n",
    "            input_shape = (cf, new_H, new_H)\n",
    "\n",
    "        # establish linear layers\n",
    "        self.linear_layers = []\n",
    "        key, *lin_keys = random.split(key, num=len(hidden_dims) + 1)\n",
    "        input_shape = np.prod(input_shape)\n",
    "        for i, (hidden_dim, k) in enumerate(zip(hidden_dims, lin_keys)):\n",
    "            self.linear_layers.append(\n",
    "                NormedDense_Block(\n",
    "                    in_dim=input_shape, out_dim=hidden_dim, key=k, drop_rate=dense_drop\n",
    "                )\n",
    "            )\n",
    "            input_shape = hidden_dim\n",
    "        self.linear_layers.append(\n",
    "            NormedDense_Block(\n",
    "                in_dim=input_shape, out_dim=num_classes, key=key, drop_rate=0\n",
    "            )\n",
    "        )\n",
    "\n",
    "    @eqx.filter_jit\n",
    "    def __call__(self, x, key, state=None, train=True):\n",
    "        subkey, *conv_keys = random.split(key, num=len(self.conv_layers) + 1)\n",
    "        for layer, k in zip(self.conv_layers, conv_keys):\n",
    "            x, state = layer(x, k, state=state, train=train)\n",
    "        x = jnp.ravel(x)\n",
    "        subkey, *lin_keys = random.split(subkey, num=len(self.linear_layers) + 1)\n",
    "        for layer, k in zip(self.linear_layers, lin_keys):\n",
    "            x, state = layer(x, k, state=state, train=train)\n",
    "        x = jax.nn.log_softmax(x)\n",
    "        return x, state\n"
   ]
  },
  {
   "cell_type": "markdown",
   "metadata": {},
   "source": [
    "#### Set up trainer"
   ]
  },
  {
   "cell_type": "code",
   "execution_count": 184,
   "metadata": {},
   "outputs": [],
   "source": [
    "import optuna\n",
    "\n",
    "\n",
    "class CNN_SAClassTrainer(EqxTrainerModule):\n",
    "    def __init__(\n",
    "        self,\n",
    "        conv_windows: Sequence[int],\n",
    "        conv_channels: Sequence[int],\n",
    "        pooling_kernel: Sequence[bool],\n",
    "        pooling_stride: Sequence[bool],\n",
    "        hidden_dims: Sequence[int],\n",
    "        input_shape: int,\n",
    "        num_classes: int,\n",
    "        conv_drop: float = 0.0,\n",
    "        dense_drop: float = 0.0,\n",
    "        trial: Any = None,\n",
    "        **kwargs,\n",
    "    ):\n",
    "        self.trial = trial\n",
    "        super().__init__(\n",
    "            model_class=eqx_CNN_SA_Classifier,\n",
    "            model_hparams={\n",
    "                \"conv_windows\": conv_windows,\n",
    "                \"conv_channels\": conv_channels,\n",
    "                \"pooling_kernel\": pooling_kernel,\n",
    "                \"pooling_stride\": pooling_stride,\n",
    "                \"input_shape\": input_shape,\n",
    "                \"hidden_dims\": hidden_dims,\n",
    "                \"num_classes\": num_classes,\n",
    "                \"conv_drop\": conv_drop,\n",
    "                \"dense_drop\": dense_drop,\n",
    "            },\n",
    "            **kwargs,\n",
    "        )\n",
    "\n",
    "    def create_functions(self):\n",
    "        def loss_function(model, x, y, key, state, train=True):\n",
    "            model_out, state = jax.vmap(\n",
    "                model,\n",
    "                axis_name=\"batch\",\n",
    "                in_axes=(0, None, None, None),\n",
    "                out_axes=(0, None),\n",
    "            )(x, key, state, train)\n",
    "            # since we use log_softmax, cross entropy is just the value of our model output\n",
    "            # indexed by the true value of y.\n",
    "            loss = jnp.take_along_axis(model_out, jnp.expand_dims(y, 1), axis=1)\n",
    "            loss = -jnp.mean(loss)\n",
    "\n",
    "            pred_y = jnp.argmax(model_out, axis=1)\n",
    "            acc = jnp.mean(y == pred_y)\n",
    "            return loss, (acc, state)\n",
    "\n",
    "        def train_step(model, opt_state, batch, key, state):\n",
    "            x, y = batch\n",
    "            (loss, (acc, state)), grads = eqx.filter_value_and_grad(\n",
    "                loss_function, has_aux=True\n",
    "            )(model, x, y, key, state)\n",
    "            updates, opt_state = self.opt.update(grads, opt_state, model)\n",
    "            model = eqx.apply_updates(model, updates)\n",
    "            metrics = {\"loss\": loss, \"acc\": acc}\n",
    "            return model, opt_state, metrics, state\n",
    "\n",
    "        def eval_step(model, batch, key, state):\n",
    "            x, y = batch\n",
    "            _, (acc, _) = loss_function(model, x, y, key, state, train=False)\n",
    "            return {\"acc\": acc}\n",
    "\n",
    "        return train_step, eval_step\n",
    "\n",
    "    def on_validation_epoch_end(self, epoch_idx, eval_metrics, val_loader):\n",
    "        if self.trial:\n",
    "            self.trial.report(eval_metrics[\"val/acc\"], step=epoch_idx)\n",
    "            if self.trial.should_prune():\n",
    "                raise optuna.exceptions.TrialPruned()\n",
    "\n",
    "    def bind_model(self):\n",
    "        \"\"\"\n",
    "        Returns a batched model with parameters bound to it. Enables an easier inference\n",
    "        access.\n",
    "\n",
    "        Returns:\n",
    "          The model with parameters and evt. batch statistics bound to it.\n",
    "        \"\"\"\n",
    "\n",
    "        def mod(x):\n",
    "            model_out, state = jax.vmap(\n",
    "                self.model,\n",
    "                axis_name=\"batch\",\n",
    "                in_axes=(0, None, None, None),\n",
    "                out_axes=(0, None),\n",
    "            )(x, self.key, self.state, False)\n",
    "            return model_out\n",
    "\n",
    "        return mod\n",
    "\n",
    "    def vizualize_grad_norms(self, batch):\n",
    "        \"\"\"Plots histogram of gradient norms of model leaves\"\"\"\n",
    "\n",
    "        def loss_function(model, x, y, key, state, train=True):\n",
    "            model_out, state = jax.vmap(\n",
    "                model,\n",
    "                axis_name=\"batch\",\n",
    "                in_axes=(0, None, None, None),\n",
    "                out_axes=(0, None),\n",
    "            )(x, key, state, train)\n",
    "            # since we use log_softmax, cross entropy is just the value of our model output\n",
    "            # indexed by the true value of y.\n",
    "            loss = jnp.take_along_axis(model_out, jnp.expand_dims(y, 1), axis=1)\n",
    "            loss = -jnp.mean(loss)\n",
    "\n",
    "            pred_y = jnp.argmax(model_out, axis=1)\n",
    "            acc = jnp.mean(y == pred_y)\n",
    "            return loss, (acc, state)\n",
    "\n",
    "        def get_grad_and_path(model, batch, key, state):\n",
    "            x, y = batch\n",
    "            (loss, (acc, state)), grads = eqx.filter_value_and_grad(\n",
    "                loss_function, has_aux=True\n",
    "            )(model, x, y, key, state)\n",
    "            dt = jax.tree_util.tree_leaves_with_path(grads)\n",
    "            grads, names = [], []\n",
    "            for (\n",
    "                path,\n",
    "                grad,\n",
    "            ) in (\n",
    "                dt\n",
    "            ):  # filter basic info we don't care about (bias terms, normalization)\n",
    "                if (\n",
    "                    (len(grad.shape) > 1)\n",
    "                    and (path[-1].name != \"bias\")\n",
    "                    and (not path[-2].name.endswith(\"norm\"))\n",
    "                ):\n",
    "                    grads.append(grad.reshape(-1))\n",
    "                    names.append(path[-2].name + \"_\" + path[-1].name)\n",
    "            return grads, names\n",
    "\n",
    "        def viz_grads(grads, names, color=\"C0\"):\n",
    "            columns = len(grads)\n",
    "            fig, ax = plt.subplots(1, columns, figsize=(columns * 3.5, 2.5))\n",
    "            for g_idx, g in enumerate(grads):\n",
    "                key = f\"{names[g_idx]}\"\n",
    "                key_ax = ax[g_idx % columns]\n",
    "                sns.histplot(data=g, bins=30, ax=key_ax, color=color, kde=True)\n",
    "                key_ax.set_title(str(key))\n",
    "                key_ax.set_xlabel(\"Grad magnitude\")\n",
    "            fig.suptitle(\"Gradient magnitude distributions\", fontsize=14, y=1.05)\n",
    "            fig.subplots_adjust(wspace=0.45)\n",
    "            plt.show()\n",
    "            plt.close()\n",
    "\n",
    "        grads, names = get_grad_and_path(self.model, batch, self.key, self.state)\n",
    "        viz_grads(grads, names)\n"
   ]
  },
  {
   "cell_type": "markdown",
   "metadata": {},
   "source": [
    "#### train model"
   ]
  },
  {
   "cell_type": "code",
   "execution_count": 185,
   "metadata": {},
   "outputs": [],
   "source": [
    "trainer2 = CNN_SAClassTrainer(\n",
    "    conv_windows=[5],\n",
    "    conv_channels=[16],\n",
    "    pooling_kernel=[2],\n",
    "    pooling_stride=[2],\n",
    "    hidden_dims=[64],\n",
    "    input_shape=(3, 32, 32),\n",
    "    num_classes=10,\n",
    "    conv_drop=0.0,\n",
    "    dense_drop=0.25,\n",
    "    optimizer_hparams={\"optimizer\": \"nadamw\", \"lr\": 5e-3},\n",
    "    logger_params={\n",
    "        \"base_log_dir\": CHECKPOINT_PATH,\n",
    "    },\n",
    "    check_val_every_n_epoch=5,\n",
    "    seed=42,\n",
    "    debug=False,\n",
    ")\n"
   ]
  },
  {
   "cell_type": "code",
   "execution_count": 186,
   "metadata": {},
   "outputs": [
    {
     "data": {
      "application/vnd.jupyter.widget-view+json": {
       "model_id": "4aac59c9656c472faac6fccec16daa18",
       "version_major": 2,
       "version_minor": 0
      },
      "text/plain": [
       "Epochs:   0%|          | 0/5 [00:00<?, ?it/s]"
      ]
     },
     "metadata": {},
     "output_type": "display_data"
    }
   ],
   "source": [
    "metrics2 = trainer2.train_model(train_loader, val_loader, test_loader, 5)"
   ]
  },
  {
   "cell_type": "markdown",
   "metadata": {},
   "source": [
    "#### model evaluation"
   ]
  },
  {
   "cell_type": "code",
   "execution_count": 188,
   "metadata": {},
   "outputs": [
    {
     "name": "stdout",
     "output_type": "stream",
     "text": [
      "Validation accuracy: 28.00%\n",
      "Test accuracy: 31.75%\n"
     ]
    }
   ],
   "source": [
    "print(f'Validation accuracy: {metrics2[\"val/acc\"]:4.2%}')\n",
    "print(f'Test accuracy: {metrics2[\"test/acc\"]:4.2%}')"
   ]
  },
  {
   "cell_type": "code",
   "execution_count": 189,
   "metadata": {},
   "outputs": [
    {
     "data": {
      "image/png": "[encoded data removed]",
      "text/plain": [
       "<Figure size 2450x250 with 7 Axes>"
      ]
     },
     "metadata": {},
     "output_type": "display_data"
    }
   ],
   "source": [
    "batch = next(iter(train_loader))\n",
    "trainer2.vizualize_grad_norms(batch)\n"
   ]
  },
  {
   "cell_type": "markdown",
   "metadata": {},
   "source": [
    "### optuna hyperparam val example"
   ]
  },
  {
   "cell_type": "code",
   "execution_count": 190,
   "metadata": {},
   "outputs": [],
   "source": [
    "def objective(trial):\n",
    "    my_train_loader, my_val_loader = create_data_loaders(\n",
    "        train_set, val_set, train=[True, False], batch_size=200\n",
    "    )\n",
    "    trainer = CNNClassTrainer(\n",
    "        conv_windows=[3, 5],\n",
    "        conv_channels=[16, 32],\n",
    "        pooling_kernel=[2, 2],\n",
    "        pooling_stride=[2, 2],\n",
    "        hidden_dims=[64],\n",
    "        input_shape=(3, 32, 32),\n",
    "        num_classes=10,\n",
    "        conv_drop=0.0,\n",
    "        dense_drop=trial.suggest_float(\"drop\", 0.1, 0.6, log=True),\n",
    "        optimizer_hparams={\n",
    "            \"optimizer\": \"nadamw\",\n",
    "            \"weight_decay\": trial.suggest_float(\"weight_decay\", 1e-5, 1e-1, log=True),\n",
    "            \"lr\": trial.suggest_float(\"lr\", 1e-5, 5e-2, log=True),\n",
    "        },\n",
    "        logger_params={\"base_log_dir\": CHECKPOINT_PATH},\n",
    "        check_val_every_n_epoch=5,\n",
    "        trial=trial,\n",
    "    )\n",
    "    metrics = trainer.train_model(my_train_loader, my_val_loader, num_epochs=25)\n",
    "    del trainer\n",
    "    del my_train_loader, my_val_loader\n",
    "    return metrics[\"val/acc\"]"
   ]
  },
  {
   "cell_type": "code",
   "execution_count": 191,
   "metadata": {},
   "outputs": [
    {
     "name": "stderr",
     "output_type": "stream",
     "text": [
      "[I 2024-07-04 11:58:45,702] A new study created in RDB with name: mlp_cifar10\n"
     ]
    },
    {
     "data": {
      "application/vnd.jupyter.widget-view+json": {
       "model_id": "4d9c7957dc2a4c168d07f614581f4282",
       "version_major": 2,
       "version_minor": 0
      },
      "text/plain": [
       "Epochs:   0%|          | 0/25 [00:00<?, ?it/s]"
      ]
     },
     "metadata": {},
     "output_type": "display_data"
    },
    {
     "name": "stderr",
     "output_type": "stream",
     "text": [
      "[I 2024-07-04 11:59:39,636] Trial 0 finished with value: 0.33000001311302185 and parameters: {'drop': 0.5519691394957986, 'weight_decay': 0.07128254592201888, 'lr': 5.8505099396434635e-05}. Best is trial 0 with value: 0.33000001311302185.\n"
     ]
    },
    {
     "data": {
      "application/vnd.jupyter.widget-view+json": {
       "model_id": "301c1497c881495991d7ac7c08556ed4",
       "version_major": 2,
       "version_minor": 0
      },
      "text/plain": [
       "Epochs:   0%|          | 0/25 [00:00<?, ?it/s]"
      ]
     },
     "metadata": {},
     "output_type": "display_data"
    },
    {
     "name": "stderr",
     "output_type": "stream",
     "text": [
      "[I 2024-07-04 12:00:36,163] Trial 1 finished with value: 0.41499999165534973 and parameters: {'drop': 0.19739726076654704, 'weight_decay': 0.018428213667987064, 'lr': 0.00019092902008723998}. Best is trial 1 with value: 0.41499999165534973.\n"
     ]
    },
    {
     "data": {
      "application/vnd.jupyter.widget-view+json": {
       "model_id": "4d0fe7c3254647a7a4dec1edf0b11f2f",
       "version_major": 2,
       "version_minor": 0
      },
      "text/plain": [
       "Epochs:   0%|          | 0/25 [00:00<?, ?it/s]"
      ]
     },
     "metadata": {},
     "output_type": "display_data"
    },
    {
     "name": "stderr",
     "output_type": "stream",
     "text": [
      "[I 2024-07-04 12:01:30,876] Trial 2 finished with value: 0.26499998569488525 and parameters: {'drop': 0.13794508798772398, 'weight_decay': 0.0011216392284551248, 'lr': 2.5611282405505576e-05}. Best is trial 1 with value: 0.41499999165534973.\n"
     ]
    },
    {
     "data": {
      "application/vnd.jupyter.widget-view+json": {
       "model_id": "bf883cca24344e64944243607d65386d",
       "version_major": 2,
       "version_minor": 0
      },
      "text/plain": [
       "Epochs:   0%|          | 0/25 [00:00<?, ?it/s]"
      ]
     },
     "metadata": {},
     "output_type": "display_data"
    },
    {
     "name": "stderr",
     "output_type": "stream",
     "text": [
      "[I 2024-07-04 12:02:26,125] Trial 3 finished with value: 0.48500001430511475 and parameters: {'drop': 0.16945083436576378, 'weight_decay': 0.0004625004079101799, 'lr': 0.0005546741491099429}. Best is trial 3 with value: 0.48500001430511475.\n"
     ]
    },
    {
     "data": {
      "application/vnd.jupyter.widget-view+json": {
       "model_id": "e449765982784ea999e84683c0ca2bae",
       "version_major": 2,
       "version_minor": 0
      },
      "text/plain": [
       "Epochs:   0%|          | 0/25 [00:00<?, ?it/s]"
      ]
     },
     "metadata": {},
     "output_type": "display_data"
    },
    {
     "name": "stderr",
     "output_type": "stream",
     "text": [
      "[I 2024-07-04 12:03:23,063] Trial 4 finished with value: 0.19999998807907104 and parameters: {'drop': 0.17507598503381308, 'weight_decay': 0.059805398223474256, 'lr': 1.0440650743837625e-05}. Best is trial 3 with value: 0.48500001430511475.\n"
     ]
    },
    {
     "data": {
      "application/vnd.jupyter.widget-view+json": {
       "model_id": "6318883488094716b7d64c317dce7bd6",
       "version_major": 2,
       "version_minor": 0
      },
      "text/plain": [
       "Epochs:   0%|          | 0/25 [00:00<?, ?it/s]"
      ]
     },
     "metadata": {},
     "output_type": "display_data"
    },
    {
     "name": "stderr",
     "output_type": "stream",
     "text": [
      "[I 2024-07-04 12:03:48,061] Trial 5 pruned. \n"
     ]
    },
    {
     "data": {
      "application/vnd.jupyter.widget-view+json": {
       "model_id": "9dc7001de0b6498c9a439540e57457bc",
       "version_major": 2,
       "version_minor": 0
      },
      "text/plain": [
       "Epochs:   0%|          | 0/25 [00:00<?, ?it/s]"
      ]
     },
     "metadata": {},
     "output_type": "display_data"
    },
    {
     "name": "stderr",
     "output_type": "stream",
     "text": [
      "[I 2024-07-04 12:04:47,129] Trial 6 finished with value: 0.5249999761581421 and parameters: {'drop': 0.28053154396735563, 'weight_decay': 0.0007543022655780234, 'lr': 0.01052212768242797}. Best is trial 6 with value: 0.5249999761581421.\n"
     ]
    },
    {
     "data": {
      "application/vnd.jupyter.widget-view+json": {
       "model_id": "97e6e4aa7095406db8c3a0c5bb12b849",
       "version_major": 2,
       "version_minor": 0
      },
      "text/plain": [
       "Epochs:   0%|          | 0/25 [00:00<?, ?it/s]"
      ]
     },
     "metadata": {},
     "output_type": "display_data"
    },
    {
     "name": "stderr",
     "output_type": "stream",
     "text": [
      "[I 2024-07-04 12:05:43,756] Trial 7 finished with value: 0.5 and parameters: {'drop': 0.10412045004462582, 'weight_decay': 3.719891809511638e-05, 'lr': 0.001622198732503443}. Best is trial 6 with value: 0.5249999761581421.\n"
     ]
    },
    {
     "data": {
      "application/vnd.jupyter.widget-view+json": {
       "model_id": "bf5b42f0f2144d8aa17126912d6299d6",
       "version_major": 2,
       "version_minor": 0
      },
      "text/plain": [
       "Epochs:   0%|          | 0/25 [00:00<?, ?it/s]"
      ]
     },
     "metadata": {},
     "output_type": "display_data"
    },
    {
     "name": "stderr",
     "output_type": "stream",
     "text": [
      "[I 2024-07-04 12:06:39,595] Trial 8 finished with value: 0.4399999976158142 and parameters: {'drop': 0.41087329051450167, 'weight_decay': 0.0003179387764512751, 'lr': 0.022978682122811234}. Best is trial 6 with value: 0.5249999761581421.\n"
     ]
    },
    {
     "data": {
      "application/vnd.jupyter.widget-view+json": {
       "model_id": "ce7581e93c1e457182f303c5bb6ecb4e",
       "version_major": 2,
       "version_minor": 0
      },
      "text/plain": [
       "Epochs:   0%|          | 0/25 [00:00<?, ?it/s]"
      ]
     },
     "metadata": {},
     "output_type": "display_data"
    },
    {
     "name": "stderr",
     "output_type": "stream",
     "text": [
      "[I 2024-07-04 12:07:34,526] Trial 9 finished with value: 0.5299999713897705 and parameters: {'drop': 0.1605772374127113, 'weight_decay': 1.3105066897093324e-05, 'lr': 0.008896639100810481}. Best is trial 9 with value: 0.5299999713897705.\n"
     ]
    },
    {
     "data": {
      "application/vnd.jupyter.widget-view+json": {
       "model_id": "ef7558b8a8484195972d5a26b3c44771",
       "version_major": 2,
       "version_minor": 0
      },
      "text/plain": [
       "Epochs:   0%|          | 0/25 [00:00<?, ?it/s]"
      ]
     },
     "metadata": {},
     "output_type": "display_data"
    },
    {
     "name": "stderr",
     "output_type": "stream",
     "text": [
      "[I 2024-07-04 12:08:29,507] Trial 10 finished with value: 0.5349999666213989 and parameters: {'drop': 0.27400708959504155, 'weight_decay': 1.0301587031377691e-05, 'lr': 0.004291981635112356}. Best is trial 10 with value: 0.5349999666213989.\n"
     ]
    },
    {
     "data": {
      "application/vnd.jupyter.widget-view+json": {
       "model_id": "42255ca0a6b2470790c598e0215d982e",
       "version_major": 2,
       "version_minor": 0
      },
      "text/plain": [
       "Epochs:   0%|          | 0/25 [00:00<?, ?it/s]"
      ]
     },
     "metadata": {},
     "output_type": "display_data"
    },
    {
     "name": "stderr",
     "output_type": "stream",
     "text": [
      "[I 2024-07-04 12:09:28,838] Trial 11 finished with value: 0.4650000035762787 and parameters: {'drop': 0.28291601933528393, 'weight_decay': 1.2360417404745713e-05, 'lr': 0.005253997290748795}. Best is trial 10 with value: 0.5349999666213989.\n"
     ]
    },
    {
     "data": {
      "application/vnd.jupyter.widget-view+json": {
       "model_id": "a437a6d8cac94ca88817be7052ef629c",
       "version_major": 2,
       "version_minor": 0
      },
      "text/plain": [
       "Epochs:   0%|          | 0/25 [00:00<?, ?it/s]"
      ]
     },
     "metadata": {},
     "output_type": "display_data"
    },
    {
     "name": "stderr",
     "output_type": "stream",
     "text": [
      "[I 2024-07-04 12:10:25,719] Trial 12 finished with value: 0.4949999749660492 and parameters: {'drop': 0.24403518356332785, 'weight_decay': 5.3825555518602365e-05, 'lr': 0.0033370176409364435}. Best is trial 10 with value: 0.5349999666213989.\n"
     ]
    },
    {
     "data": {
      "application/vnd.jupyter.widget-view+json": {
       "model_id": "0a1efcd876114eb49d3ba17962d33d23",
       "version_major": 2,
       "version_minor": 0
      },
      "text/plain": [
       "Epochs:   0%|          | 0/25 [00:00<?, ?it/s]"
      ]
     },
     "metadata": {},
     "output_type": "display_data"
    },
    {
     "name": "stderr",
     "output_type": "stream",
     "text": [
      "[I 2024-07-04 12:10:49,976] Trial 13 pruned. \n"
     ]
    },
    {
     "data": {
      "application/vnd.jupyter.widget-view+json": {
       "model_id": "68ce343421d9496dba0981913b4d3baf",
       "version_major": 2,
       "version_minor": 0
      },
      "text/plain": [
       "Epochs:   0%|          | 0/25 [00:00<?, ?it/s]"
      ]
     },
     "metadata": {},
     "output_type": "display_data"
    },
    {
     "name": "stderr",
     "output_type": "stream",
     "text": [
      "[I 2024-07-04 12:11:45,579] Trial 14 finished with value: 0.5 and parameters: {'drop': 0.22535773798159306, 'weight_decay': 0.00011871333672275946, 'lr': 0.0008384081250023965}. Best is trial 10 with value: 0.5349999666213989.\n"
     ]
    },
    {
     "data": {
      "application/vnd.jupyter.widget-view+json": {
       "model_id": "7a52839fcac643f98c2527e8660858c1",
       "version_major": 2,
       "version_minor": 0
      },
      "text/plain": [
       "Epochs:   0%|          | 0/25 [00:00<?, ?it/s]"
      ]
     },
     "metadata": {},
     "output_type": "display_data"
    },
    {
     "name": "stderr",
     "output_type": "stream",
     "text": [
      "[I 2024-07-04 12:12:40,200] Trial 15 finished with value: 0.4899999499320984 and parameters: {'drop': 0.11870830896954543, 'weight_decay': 0.006687438779979216, 'lr': 0.00617160960430692}. Best is trial 10 with value: 0.5349999666213989.\n"
     ]
    },
    {
     "data": {
      "application/vnd.jupyter.widget-view+json": {
       "model_id": "340aa558543f4143b353da8837eda65b",
       "version_major": 2,
       "version_minor": 0
      },
      "text/plain": [
       "Epochs:   0%|          | 0/25 [00:00<?, ?it/s]"
      ]
     },
     "metadata": {},
     "output_type": "display_data"
    },
    {
     "name": "stderr",
     "output_type": "stream",
     "text": [
      "[I 2024-07-04 12:13:03,685] Trial 16 pruned. \n"
     ]
    },
    {
     "data": {
      "application/vnd.jupyter.widget-view+json": {
       "model_id": "167f3b2242aa4d41aa1f5a3da296202b",
       "version_major": 2,
       "version_minor": 0
      },
      "text/plain": [
       "Epochs:   0%|          | 0/25 [00:00<?, ?it/s]"
      ]
     },
     "metadata": {},
     "output_type": "display_data"
    },
    {
     "name": "stderr",
     "output_type": "stream",
     "text": [
      "[I 2024-07-04 12:13:38,377] Trial 17 pruned. \n"
     ]
    },
    {
     "data": {
      "application/vnd.jupyter.widget-view+json": {
       "model_id": "8fe070064185499488583017c828891c",
       "version_major": 2,
       "version_minor": 0
      },
      "text/plain": [
       "Epochs:   0%|          | 0/25 [00:00<?, ?it/s]"
      ]
     },
     "metadata": {},
     "output_type": "display_data"
    },
    {
     "name": "stderr",
     "output_type": "stream",
     "text": [
      "[I 2024-07-04 12:14:06,062] Trial 18 pruned. \n"
     ]
    },
    {
     "data": {
      "application/vnd.jupyter.widget-view+json": {
       "model_id": "c6811fa64f8f47cc9928203ac5e92eaf",
       "version_major": 2,
       "version_minor": 0
      },
      "text/plain": [
       "Epochs:   0%|          | 0/25 [00:00<?, ?it/s]"
      ]
     },
     "metadata": {},
     "output_type": "display_data"
    },
    {
     "name": "stderr",
     "output_type": "stream",
     "text": [
      "[I 2024-07-04 12:14:33,802] Trial 19 pruned. \n"
     ]
    },
    {
     "data": {
      "application/vnd.jupyter.widget-view+json": {
       "model_id": "f509c5520e8648eb8360c101b561e2ae",
       "version_major": 2,
       "version_minor": 0
      },
      "text/plain": [
       "Epochs:   0%|          | 0/25 [00:00<?, ?it/s]"
      ]
     },
     "metadata": {},
     "output_type": "display_data"
    },
    {
     "name": "stderr",
     "output_type": "stream",
     "text": [
      "[I 2024-07-04 12:15:32,655] Trial 20 finished with value: 0.5399999618530273 and parameters: {'drop': 0.12952073921735716, 'weight_decay': 0.00012564636958146277, 'lr': 0.002425155279208925}. Best is trial 20 with value: 0.5399999618530273.\n"
     ]
    },
    {
     "data": {
      "application/vnd.jupyter.widget-view+json": {
       "model_id": "b4d053e169e6499b9959e85f8dfc4734",
       "version_major": 2,
       "version_minor": 0
      },
      "text/plain": [
       "Epochs:   0%|          | 0/25 [00:00<?, ?it/s]"
      ]
     },
     "metadata": {},
     "output_type": "display_data"
    },
    {
     "name": "stderr",
     "output_type": "stream",
     "text": [
      "[I 2024-07-04 12:16:28,436] Trial 21 pruned. \n"
     ]
    },
    {
     "data": {
      "application/vnd.jupyter.widget-view+json": {
       "model_id": "2e9c28bc6c444bc4ab23381f2974d735",
       "version_major": 2,
       "version_minor": 0
      },
      "text/plain": [
       "Epochs:   0%|          | 0/25 [00:00<?, ?it/s]"
      ]
     },
     "metadata": {},
     "output_type": "display_data"
    },
    {
     "name": "stderr",
     "output_type": "stream",
     "text": [
      "[I 2024-07-04 12:17:24,630] Trial 22 finished with value: 0.4949999749660492 and parameters: {'drop': 0.10031174620851219, 'weight_decay': 3.310817977146432e-05, 'lr': 0.010362374766982327}. Best is trial 20 with value: 0.5399999618530273.\n"
     ]
    },
    {
     "data": {
      "application/vnd.jupyter.widget-view+json": {
       "model_id": "a261381360ec4b34b09d22df10d5f13d",
       "version_major": 2,
       "version_minor": 0
      },
      "text/plain": [
       "Epochs:   0%|          | 0/25 [00:00<?, ?it/s]"
      ]
     },
     "metadata": {},
     "output_type": "display_data"
    },
    {
     "name": "stderr",
     "output_type": "stream",
     "text": [
      "[I 2024-07-04 12:17:49,053] Trial 23 pruned. \n"
     ]
    },
    {
     "data": {
      "application/vnd.jupyter.widget-view+json": {
       "model_id": "7483bbf15a0a497aaa7e3ff57ccf1b3b",
       "version_major": 2,
       "version_minor": 0
      },
      "text/plain": [
       "Epochs:   0%|          | 0/25 [00:00<?, ?it/s]"
      ]
     },
     "metadata": {},
     "output_type": "display_data"
    },
    {
     "name": "stderr",
     "output_type": "stream",
     "text": [
      "[I 2024-07-04 12:18:24,192] Trial 24 pruned. \n"
     ]
    }
   ],
   "source": [
    "study = optuna.create_study(\n",
    "    study_name=\"mlp_cifar10\",\n",
    "    storage=f'sqlite:///{os.path.join(CHECKPOINT_PATH, trainer.config[\"model_class\"] ,\"optuna_hparam_search_eqn.db\")}',\n",
    "    direction=\"maximize\",\n",
    "    pruner=optuna.pruners.MedianPruner(n_startup_trials=5, n_warmup_steps=10),\n",
    "    load_if_exists=True,\n",
    ")\n",
    "study.optimize(objective, n_trials=25 - len(study.trials), n_jobs=1)"
   ]
  },
  {
   "cell_type": "code",
   "execution_count": 192,
   "metadata": {},
   "outputs": [
    {
     "name": "stdout",
     "output_type": "stream",
     "text": [
      "Best Validation Accuracy: 54.00%\n",
      "Best Params:\n",
      "-> drop: 0.12952073921735716\n",
      "-> weight_decay: 0.00012564636958146277\n",
      "-> lr: 0.002425155279208925\n"
     ]
    },
    {
     "data": {
      "application/vnd.plotly.v1+json": {
       "config": {
        "plotlyServerURL": "https://plot.ly"
       },
       "data": [
        {
         "marker": {
          "maxdisplayed": 10
         },
         "mode": "lines+markers",
         "name": "Trial0",
         "type": "scatter",
         "x": [
          5,
          10,
          15,
          20,
          25
         ],
         "y": [
          0.23999999463558197,
          0.28999999165534973,
          0.33000001311302185,
          0.33000001311302185,
          0.33000001311302185
         ]
        },
        {
         "marker": {
          "maxdisplayed": 10
         },
         "mode": "lines+markers",
         "name": "Trial1",
         "type": "scatter",
         "x": [
          5,
          10,
          15,
          20,
          25
         ],
         "y": [
          0.32499998807907104,
          0.375,
          0.3999999761581421,
          0.41499999165534973,
          0.3999999761581421
         ]
        },
        {
         "marker": {
          "maxdisplayed": 10
         },
         "mode": "lines+markers",
         "name": "Trial2",
         "type": "scatter",
         "x": [
          5,
          10,
          15,
          20,
          25
         ],
         "y": [
          0.18000000715255737,
          0.23999999463558197,
          0.25999999046325684,
          0.26499998569488525,
          0.25999999046325684
         ]
        },
        {
         "marker": {
          "maxdisplayed": 10
         },
         "mode": "lines+markers",
         "name": "Trial3",
         "type": "scatter",
         "x": [
          5,
          10,
          15,
          20,
          25
         ],
         "y": [
          0.3799999952316284,
          0.41999998688697815,
          0.4699999988079071,
          0.4749999940395355,
          0.48500001430511475
         ]
        },
        {
         "marker": {
          "maxdisplayed": 10
         },
         "mode": "lines+markers",
         "name": "Trial4",
         "type": "scatter",
         "x": [
          5,
          10,
          15,
          20,
          25
         ],
         "y": [
          0.1550000011920929,
          0.17000000178813934,
          0.17000000178813934,
          0.19999998807907104,
          0.19999998807907104
         ]
        },
        {
         "marker": {
          "maxdisplayed": 10
         },
         "mode": "lines+markers",
         "name": "Trial5",
         "type": "scatter",
         "x": [
          5,
          10
         ],
         "y": [
          0.19499999284744263,
          0.23499999940395355
         ]
        },
        {
         "marker": {
          "maxdisplayed": 10
         },
         "mode": "lines+markers",
         "name": "Trial6",
         "type": "scatter",
         "x": [
          5,
          10,
          15,
          20,
          25
         ],
         "y": [
          0.41499999165534973,
          0.4399999976158142,
          0.5099999904632568,
          0.5149999856948853,
          0.5249999761581421
         ]
        },
        {
         "marker": {
          "maxdisplayed": 10
         },
         "mode": "lines+markers",
         "name": "Trial7",
         "type": "scatter",
         "x": [
          5,
          10,
          15,
          20,
          25
         ],
         "y": [
          0.3999999761581421,
          0.4650000035762787,
          0.47999998927116394,
          0.5,
          0.4899999499320984
         ]
        },
        {
         "marker": {
          "maxdisplayed": 10
         },
         "mode": "lines+markers",
         "name": "Trial8",
         "type": "scatter",
         "x": [
          5,
          10,
          15,
          20,
          25
         ],
         "y": [
          0.33000001311302185,
          0.3799999952316284,
          0.4399999976158142,
          0.42500001192092896,
          0.4350000023841858
         ]
        },
        {
         "marker": {
          "maxdisplayed": 10
         },
         "mode": "lines+markers",
         "name": "Trial9",
         "type": "scatter",
         "x": [
          5,
          10,
          15,
          20,
          25
         ],
         "y": [
          0.4299999475479126,
          0.4749999940395355,
          0.4749999940395355,
          0.5049999952316284,
          0.5299999713897705
         ]
        },
        {
         "marker": {
          "maxdisplayed": 10
         },
         "mode": "lines+markers",
         "name": "Trial10",
         "type": "scatter",
         "x": [
          5,
          10,
          15,
          20,
          25
         ],
         "y": [
          0.41499999165534973,
          0.44999998807907104,
          0.4949999749660492,
          0.5349999666213989,
          0.5199999809265137
         ]
        },
        {
         "marker": {
          "maxdisplayed": 10
         },
         "mode": "lines+markers",
         "name": "Trial11",
         "type": "scatter",
         "x": [
          5,
          10,
          15,
          20,
          25
         ],
         "y": [
          0.38499999046325684,
          0.4299999475479126,
          0.4650000035762787,
          0.44999998807907104,
          0.45500001311302185
         ]
        },
        {
         "marker": {
          "maxdisplayed": 10
         },
         "mode": "lines+markers",
         "name": "Trial12",
         "type": "scatter",
         "x": [
          5,
          10,
          15,
          20,
          25
         ],
         "y": [
          0.38499999046325684,
          0.42500001192092896,
          0.4949999749660492,
          0.4899999499320984,
          0.48500001430511475
         ]
        },
        {
         "marker": {
          "maxdisplayed": 10
         },
         "mode": "lines+markers",
         "name": "Trial13",
         "type": "scatter",
         "x": [
          5,
          10
         ],
         "y": [
          0.3700000047683716,
          0.38999998569488525
         ]
        },
        {
         "marker": {
          "maxdisplayed": 10
         },
         "mode": "lines+markers",
         "name": "Trial14",
         "type": "scatter",
         "x": [
          5,
          10,
          15,
          20,
          25
         ],
         "y": [
          0.3999999761581421,
          0.47999998927116394,
          0.5,
          0.4650000035762787,
          0.47999998927116394
         ]
        },
        {
         "marker": {
          "maxdisplayed": 10
         },
         "mode": "lines+markers",
         "name": "Trial15",
         "type": "scatter",
         "x": [
          5,
          10,
          15,
          20,
          25
         ],
         "y": [
          0.3700000047683716,
          0.4599999487400055,
          0.47999998927116394,
          0.4899999499320984,
          0.4699999988079071
         ]
        },
        {
         "marker": {
          "maxdisplayed": 10
         },
         "mode": "lines+markers",
         "name": "Trial16",
         "type": "scatter",
         "x": [
          5,
          10
         ],
         "y": [
          0.3400000035762787,
          0.3799999952316284
         ]
        },
        {
         "marker": {
          "maxdisplayed": 10
         },
         "mode": "lines+markers",
         "name": "Trial17",
         "type": "scatter",
         "x": [
          5,
          10,
          15
         ],
         "y": [
          0.4050000011920929,
          0.45500001311302185,
          0.41999998688697815
         ]
        },
        {
         "marker": {
          "maxdisplayed": 10
         },
         "mode": "lines+markers",
         "name": "Trial18",
         "type": "scatter",
         "x": [
          5,
          10
         ],
         "y": [
          0.3100000023841858,
          0.39500001072883606
         ]
        },
        {
         "marker": {
          "maxdisplayed": 10
         },
         "mode": "lines+markers",
         "name": "Trial19",
         "type": "scatter",
         "x": [
          5,
          10
         ],
         "y": [
          0.3499999940395355,
          0.4050000011920929
         ]
        },
        {
         "marker": {
          "maxdisplayed": 10
         },
         "mode": "lines+markers",
         "name": "Trial20",
         "type": "scatter",
         "x": [
          5,
          10,
          15,
          20,
          25
         ],
         "y": [
          0.41999998688697815,
          0.4699999988079071,
          0.5299999713897705,
          0.5399999618530273,
          0.5299999713897705
         ]
        },
        {
         "marker": {
          "maxdisplayed": 10
         },
         "mode": "lines+markers",
         "name": "Trial21",
         "type": "scatter",
         "x": [
          5,
          10,
          15,
          20,
          25
         ],
         "y": [
          0.4050000011920929,
          0.4749999940395355,
          0.4650000035762787,
          0.44999998807907104,
          0.4599999487400055
         ]
        },
        {
         "marker": {
          "maxdisplayed": 10
         },
         "mode": "lines+markers",
         "name": "Trial22",
         "type": "scatter",
         "x": [
          5,
          10,
          15,
          20,
          25
         ],
         "y": [
          0.375,
          0.4299999475479126,
          0.4899999499320984,
          0.4899999499320984,
          0.4949999749660492
         ]
        },
        {
         "marker": {
          "maxdisplayed": 10
         },
         "mode": "lines+markers",
         "name": "Trial23",
         "type": "scatter",
         "x": [
          5,
          10
         ],
         "y": [
          0.41999998688697815,
          0.41999998688697815
         ]
        },
        {
         "marker": {
          "maxdisplayed": 10
         },
         "mode": "lines+markers",
         "name": "Trial24",
         "type": "scatter",
         "x": [
          5,
          10,
          15
         ],
         "y": [
          0.4099999964237213,
          0.4399999976158142,
          0.4650000035762787
         ]
        }
       ],
       "layout": {
        "showlegend": false,
        "template": {
         "data": {
          "bar": [
           {
            "error_x": {
             "color": "#2a3f5f"
            },
            "error_y": {
             "color": "#2a3f5f"
            },
            "marker": {
             "line": {
              "color": "#E5ECF6",
              "width": 0.5
             },
             "pattern": {
              "fillmode": "overlay",
              "size": 10,
              "solidity": 0.2
             }
            },
            "type": "bar"
           }
          ],
          "barpolar": [
           {
            "marker": {
             "line": {
              "color": "#E5ECF6",
              "width": 0.5
             },
             "pattern": {
              "fillmode": "overlay",
              "size": 10,
              "solidity": 0.2
             }
            },
            "type": "barpolar"
           }
          ],
          "carpet": [
           {
            "aaxis": {
             "endlinecolor": "#2a3f5f",
             "gridcolor": "white",
             "linecolor": "white",
             "minorgridcolor": "white",
             "startlinecolor": "#2a3f5f"
            },
            "baxis": {
             "endlinecolor": "#2a3f5f",
             "gridcolor": "white",
             "linecolor": "white",
             "minorgridcolor": "white",
             "startlinecolor": "#2a3f5f"
            },
            "type": "carpet"
           }
          ],
          "choropleth": [
           {
            "colorbar": {
             "outlinewidth": 0,
             "ticks": ""
            },
            "type": "choropleth"
           }
          ],
          "contour": [
           {
            "colorbar": {
             "outlinewidth": 0,
             "ticks": ""
            },
            "colorscale": [
             [
              0,
              "#0d0887"
             ],
             [
              0.1111111111111111,
              "#46039f"
             ],
             [
              0.2222222222222222,
              "#7201a8"
             ],
             [
              0.3333333333333333,
              "#9c179e"
             ],
             [
              0.4444444444444444,
              "#bd3786"
             ],
             [
              0.5555555555555556,
              "#d8576b"
             ],
             [
              0.6666666666666666,
              "#ed7953"
             ],
             [
              0.7777777777777778,
              "#fb9f3a"
             ],
             [
              0.8888888888888888,
              "#fdca26"
             ],
             [
              1,
              "#f0f921"
             ]
            ],
            "type": "contour"
           }
          ],
          "contourcarpet": [
           {
            "colorbar": {
             "outlinewidth": 0,
             "ticks": ""
            },
            "type": "contourcarpet"
           }
          ],
          "heatmap": [
           {
            "colorbar": {
             "outlinewidth": 0,
             "ticks": ""
            },
            "colorscale": [
             [
              0,
              "#0d0887"
             ],
             [
              0.1111111111111111,
              "#46039f"
             ],
             [
              0.2222222222222222,
              "#7201a8"
             ],
             [
              0.3333333333333333,
              "#9c179e"
             ],
             [
              0.4444444444444444,
              "#bd3786"
             ],
             [
              0.5555555555555556,
              "#d8576b"
             ],
             [
              0.6666666666666666,
              "#ed7953"
             ],
             [
              0.7777777777777778,
              "#fb9f3a"
             ],
             [
              0.8888888888888888,
              "#fdca26"
             ],
             [
              1,
              "#f0f921"
             ]
            ],
            "type": "heatmap"
           }
          ],
          "heatmapgl": [
           {
            "colorbar": {
             "outlinewidth": 0,
             "ticks": ""
            },
            "colorscale": [
             [
              0,
              "#0d0887"
             ],
             [
              0.1111111111111111,
              "#46039f"
             ],
             [
              0.2222222222222222,
              "#7201a8"
             ],
             [
              0.3333333333333333,
              "#9c179e"
             ],
             [
              0.4444444444444444,
              "#bd3786"
             ],
             [
              0.5555555555555556,
              "#d8576b"
             ],
             [
              0.6666666666666666,
              "#ed7953"
             ],
             [
              0.7777777777777778,
              "#fb9f3a"
             ],
             [
              0.8888888888888888,
              "#fdca26"
             ],
             [
              1,
              "#f0f921"
             ]
            ],
            "type": "heatmapgl"
           }
          ],
          "histogram": [
           {
            "marker": {
             "pattern": {
              "fillmode": "overlay",
              "size": 10,
              "solidity": 0.2
             }
            },
            "type": "histogram"
           }
          ],
          "histogram2d": [
           {
            "colorbar": {
             "outlinewidth": 0,
             "ticks": ""
            },
            "colorscale": [
             [
              0,
              "#0d0887"
             ],
             [
              0.1111111111111111,
              "#46039f"
             ],
             [
              0.2222222222222222,
              "#7201a8"
             ],
             [
              0.3333333333333333,
              "#9c179e"
             ],
             [
              0.4444444444444444,
              "#bd3786"
             ],
             [
              0.5555555555555556,
              "#d8576b"
             ],
             [
              0.6666666666666666,
              "#ed7953"
             ],
             [
              0.7777777777777778,
              "#fb9f3a"
             ],
             [
              0.8888888888888888,
              "#fdca26"
             ],
             [
              1,
              "#f0f921"
             ]
            ],
            "type": "histogram2d"
           }
          ],
          "histogram2dcontour": [
           {
            "colorbar": {
             "outlinewidth": 0,
             "ticks": ""
            },
            "colorscale": [
             [
              0,
              "#0d0887"
             ],
             [
              0.1111111111111111,
              "#46039f"
             ],
             [
              0.2222222222222222,
              "#7201a8"
             ],
             [
              0.3333333333333333,
              "#9c179e"
             ],
             [
              0.4444444444444444,
              "#bd3786"
             ],
             [
              0.5555555555555556,
              "#d8576b"
             ],
             [
              0.6666666666666666,
              "#ed7953"
             ],
             [
              0.7777777777777778,
              "#fb9f3a"
             ],
             [
              0.8888888888888888,
              "#fdca26"
             ],
             [
              1,
              "#f0f921"
             ]
            ],
            "type": "histogram2dcontour"
           }
          ],
          "mesh3d": [
           {
            "colorbar": {
             "outlinewidth": 0,
             "ticks": ""
            },
            "type": "mesh3d"
           }
          ],
          "parcoords": [
           {
            "line": {
             "colorbar": {
              "outlinewidth": 0,
              "ticks": ""
             }
            },
            "type": "parcoords"
           }
          ],
          "pie": [
           {
            "automargin": true,
            "type": "pie"
           }
          ],
          "scatter": [
           {
            "fillpattern": {
             "fillmode": "overlay",
             "size": 10,
             "solidity": 0.2
            },
            "type": "scatter"
           }
          ],
          "scatter3d": [
           {
            "line": {
             "colorbar": {
              "outlinewidth": 0,
              "ticks": ""
             }
            },
            "marker": {
             "colorbar": {
              "outlinewidth": 0,
              "ticks": ""
             }
            },
            "type": "scatter3d"
           }
          ],
          "scattercarpet": [
           {
            "marker": {
             "colorbar": {
              "outlinewidth": 0,
              "ticks": ""
             }
            },
            "type": "scattercarpet"
           }
          ],
          "scattergeo": [
           {
            "marker": {
             "colorbar": {
              "outlinewidth": 0,
              "ticks": ""
             }
            },
            "type": "scattergeo"
           }
          ],
          "scattergl": [
           {
            "marker": {
             "colorbar": {
              "outlinewidth": 0,
              "ticks": ""
             }
            },
            "type": "scattergl"
           }
          ],
          "scattermapbox": [
           {
            "marker": {
             "colorbar": {
              "outlinewidth": 0,
              "ticks": ""
             }
            },
            "type": "scattermapbox"
           }
          ],
          "scatterpolar": [
           {
            "marker": {
             "colorbar": {
              "outlinewidth": 0,
              "ticks": ""
             }
            },
            "type": "scatterpolar"
           }
          ],
          "scatterpolargl": [
           {
            "marker": {
             "colorbar": {
              "outlinewidth": 0,
              "ticks": ""
             }
            },
            "type": "scatterpolargl"
           }
          ],
          "scatterternary": [
           {
            "marker": {
             "colorbar": {
              "outlinewidth": 0,
              "ticks": ""
             }
            },
            "type": "scatterternary"
           }
          ],
          "surface": [
           {
            "colorbar": {
             "outlinewidth": 0,
             "ticks": ""
            },
            "colorscale": [
             [
              0,
              "#0d0887"
             ],
             [
              0.1111111111111111,
              "#46039f"
             ],
             [
              0.2222222222222222,
              "#7201a8"
             ],
             [
              0.3333333333333333,
              "#9c179e"
             ],
             [
              0.4444444444444444,
              "#bd3786"
             ],
             [
              0.5555555555555556,
              "#d8576b"
             ],
             [
              0.6666666666666666,
              "#ed7953"
             ],
             [
              0.7777777777777778,
              "#fb9f3a"
             ],
             [
              0.8888888888888888,
              "#fdca26"
             ],
             [
              1,
              "#f0f921"
             ]
            ],
            "type": "surface"
           }
          ],
          "table": [
           {
            "cells": {
             "fill": {
              "color": "#EBF0F8"
             },
             "line": {
              "color": "white"
             }
            },
            "header": {
             "fill": {
              "color": "#C8D4E3"
             },
             "line": {
              "color": "white"
             }
            },
            "type": "table"
           }
          ]
         },
         "layout": {
          "annotationdefaults": {
           "arrowcolor": "#2a3f5f",
           "arrowhead": 0,
           "arrowwidth": 1
          },
          "autotypenumbers": "strict",
          "coloraxis": {
           "colorbar": {
            "outlinewidth": 0,
            "ticks": ""
           }
          },
          "colorscale": {
           "diverging": [
            [
             0,
             "#8e0152"
            ],
            [
             0.1,
             "#c51b7d"
            ],
            [
             0.2,
             "#de77ae"
            ],
            [
             0.3,
             "#f1b6da"
            ],
            [
             0.4,
             "#fde0ef"
            ],
            [
             0.5,
             "#f7f7f7"
            ],
            [
             0.6,
             "#e6f5d0"
            ],
            [
             0.7,
             "#b8e186"
            ],
            [
             0.8,
             "#7fbc41"
            ],
            [
             0.9,
             "#4d9221"
            ],
            [
             1,
             "#276419"
            ]
           ],
           "sequential": [
            [
             0,
             "#0d0887"
            ],
            [
             0.1111111111111111,
             "#46039f"
            ],
            [
             0.2222222222222222,
             "#7201a8"
            ],
            [
             0.3333333333333333,
             "#9c179e"
            ],
            [
             0.4444444444444444,
             "#bd3786"
            ],
            [
             0.5555555555555556,
             "#d8576b"
            ],
            [
             0.6666666666666666,
             "#ed7953"
            ],
            [
             0.7777777777777778,
             "#fb9f3a"
            ],
            [
             0.8888888888888888,
             "#fdca26"
            ],
            [
             1,
             "#f0f921"
            ]
           ],
           "sequentialminus": [
            [
             0,
             "#0d0887"
            ],
            [
             0.1111111111111111,
             "#46039f"
            ],
            [
             0.2222222222222222,
             "#7201a8"
            ],
            [
             0.3333333333333333,
             "#9c179e"
            ],
            [
             0.4444444444444444,
             "#bd3786"
            ],
            [
             0.5555555555555556,
             "#d8576b"
            ],
            [
             0.6666666666666666,
             "#ed7953"
            ],
            [
             0.7777777777777778,
             "#fb9f3a"
            ],
            [
             0.8888888888888888,
             "#fdca26"
            ],
            [
             1,
             "#f0f921"
            ]
           ]
          },
          "colorway": [
           "#636efa",
           "#EF553B",
           "#00cc96",
           "#ab63fa",
           "#FFA15A",
           "#19d3f3",
           "#FF6692",
           "#B6E880",
           "#FF97FF",
           "#FECB52"
          ],
          "font": {
           "color": "#2a3f5f"
          },
          "geo": {
           "bgcolor": "white",
           "lakecolor": "white",
           "landcolor": "#E5ECF6",
           "showlakes": true,
           "showland": true,
           "subunitcolor": "white"
          },
          "hoverlabel": {
           "align": "left"
          },
          "hovermode": "closest",
          "mapbox": {
           "style": "light"
          },
          "paper_bgcolor": "white",
          "plot_bgcolor": "#E5ECF6",
          "polar": {
           "angularaxis": {
            "gridcolor": "white",
            "linecolor": "white",
            "ticks": ""
           },
           "bgcolor": "#E5ECF6",
           "radialaxis": {
            "gridcolor": "white",
            "linecolor": "white",
            "ticks": ""
           }
          },
          "scene": {
           "xaxis": {
            "backgroundcolor": "#E5ECF6",
            "gridcolor": "white",
            "gridwidth": 2,
            "linecolor": "white",
            "showbackground": true,
            "ticks": "",
            "zerolinecolor": "white"
           },
           "yaxis": {
            "backgroundcolor": "#E5ECF6",
            "gridcolor": "white",
            "gridwidth": 2,
            "linecolor": "white",
            "showbackground": true,
            "ticks": "",
            "zerolinecolor": "white"
           },
           "zaxis": {
            "backgroundcolor": "#E5ECF6",
            "gridcolor": "white",
            "gridwidth": 2,
            "linecolor": "white",
            "showbackground": true,
            "ticks": "",
            "zerolinecolor": "white"
           }
          },
          "shapedefaults": {
           "line": {
            "color": "#2a3f5f"
           }
          },
          "ternary": {
           "aaxis": {
            "gridcolor": "white",
            "linecolor": "white",
            "ticks": ""
           },
           "baxis": {
            "gridcolor": "white",
            "linecolor": "white",
            "ticks": ""
           },
           "bgcolor": "#E5ECF6",
           "caxis": {
            "gridcolor": "white",
            "linecolor": "white",
            "ticks": ""
           }
          },
          "title": {
           "x": 0.05
          },
          "xaxis": {
           "automargin": true,
           "gridcolor": "white",
           "linecolor": "white",
           "ticks": "",
           "title": {
            "standoff": 15
           },
           "zerolinecolor": "white",
           "zerolinewidth": 2
          },
          "yaxis": {
           "automargin": true,
           "gridcolor": "white",
           "linecolor": "white",
           "ticks": "",
           "title": {
            "standoff": 15
           },
           "zerolinecolor": "white",
           "zerolinewidth": 2
          }
         }
        },
        "title": {
         "text": "Intermediate Values Plot"
        },
        "xaxis": {
         "title": {
          "text": "Step"
         }
        },
        "yaxis": {
         "title": {
          "text": "Intermediate Value"
         }
        }
       }
      }
     },
     "metadata": {},
     "output_type": "display_data"
    },
    {
     "data": {
      "application/vnd.plotly.v1+json": {
       "config": {
        "plotlyServerURL": "https://plot.ly"
       },
       "data": [
        {
         "cliponaxis": false,
         "hovertemplate": [
          "lr (FloatDistribution): 0.25963742262104905<extra></extra>",
          "weight_decay (FloatDistribution): 0.3334752514381493<extra></extra>",
          "drop (FloatDistribution): 0.4068873259408017<extra></extra>"
         ],
         "name": "Objective Value",
         "orientation": "h",
         "text": [
          "0.26",
          "0.33",
          "0.41"
         ],
         "textposition": "outside",
         "type": "bar",
         "x": [
          0.25963742262104905,
          0.3334752514381493,
          0.4068873259408017
         ],
         "y": [
          "lr",
          "weight_decay",
          "drop"
         ]
        }
       ],
       "layout": {
        "template": {
         "data": {
          "bar": [
           {
            "error_x": {
             "color": "#2a3f5f"
            },
            "error_y": {
             "color": "#2a3f5f"
            },
            "marker": {
             "line": {
              "color": "#E5ECF6",
              "width": 0.5
             },
             "pattern": {
              "fillmode": "overlay",
              "size": 10,
              "solidity": 0.2
             }
            },
            "type": "bar"
           }
          ],
          "barpolar": [
           {
            "marker": {
             "line": {
              "color": "#E5ECF6",
              "width": 0.5
             },
             "pattern": {
              "fillmode": "overlay",
              "size": 10,
              "solidity": 0.2
             }
            },
            "type": "barpolar"
           }
          ],
          "carpet": [
           {
            "aaxis": {
             "endlinecolor": "#2a3f5f",
             "gridcolor": "white",
             "linecolor": "white",
             "minorgridcolor": "white",
             "startlinecolor": "#2a3f5f"
            },
            "baxis": {
             "endlinecolor": "#2a3f5f",
             "gridcolor": "white",
             "linecolor": "white",
             "minorgridcolor": "white",
             "startlinecolor": "#2a3f5f"
            },
            "type": "carpet"
           }
          ],
          "choropleth": [
           {
            "colorbar": {
             "outlinewidth": 0,
             "ticks": ""
            },
            "type": "choropleth"
           }
          ],
          "contour": [
           {
            "colorbar": {
             "outlinewidth": 0,
             "ticks": ""
            },
            "colorscale": [
             [
              0,
              "#0d0887"
             ],
             [
              0.1111111111111111,
              "#46039f"
             ],
             [
              0.2222222222222222,
              "#7201a8"
             ],
             [
              0.3333333333333333,
              "#9c179e"
             ],
             [
              0.4444444444444444,
              "#bd3786"
             ],
             [
              0.5555555555555556,
              "#d8576b"
             ],
             [
              0.6666666666666666,
              "#ed7953"
             ],
             [
              0.7777777777777778,
              "#fb9f3a"
             ],
             [
              0.8888888888888888,
              "#fdca26"
             ],
             [
              1,
              "#f0f921"
             ]
            ],
            "type": "contour"
           }
          ],
          "contourcarpet": [
           {
            "colorbar": {
             "outlinewidth": 0,
             "ticks": ""
            },
            "type": "contourcarpet"
           }
          ],
          "heatmap": [
           {
            "colorbar": {
             "outlinewidth": 0,
             "ticks": ""
            },
            "colorscale": [
             [
              0,
              "#0d0887"
             ],
             [
              0.1111111111111111,
              "#46039f"
             ],
             [
              0.2222222222222222,
              "#7201a8"
             ],
             [
              0.3333333333333333,
              "#9c179e"
             ],
             [
              0.4444444444444444,
              "#bd3786"
             ],
             [
              0.5555555555555556,
              "#d8576b"
             ],
             [
              0.6666666666666666,
              "#ed7953"
             ],
             [
              0.7777777777777778,
              "#fb9f3a"
             ],
             [
              0.8888888888888888,
              "#fdca26"
             ],
             [
              1,
              "#f0f921"
             ]
            ],
            "type": "heatmap"
           }
          ],
          "heatmapgl": [
           {
            "colorbar": {
             "outlinewidth": 0,
             "ticks": ""
            },
            "colorscale": [
             [
              0,
              "#0d0887"
             ],
             [
              0.1111111111111111,
              "#46039f"
             ],
             [
              0.2222222222222222,
              "#7201a8"
             ],
             [
              0.3333333333333333,
              "#9c179e"
             ],
             [
              0.4444444444444444,
              "#bd3786"
             ],
             [
              0.5555555555555556,
              "#d8576b"
             ],
             [
              0.6666666666666666,
              "#ed7953"
             ],
             [
              0.7777777777777778,
              "#fb9f3a"
             ],
             [
              0.8888888888888888,
              "#fdca26"
             ],
             [
              1,
              "#f0f921"
             ]
            ],
            "type": "heatmapgl"
           }
          ],
          "histogram": [
           {
            "marker": {
             "pattern": {
              "fillmode": "overlay",
              "size": 10,
              "solidity": 0.2
             }
            },
            "type": "histogram"
           }
          ],
          "histogram2d": [
           {
            "colorbar": {
             "outlinewidth": 0,
             "ticks": ""
            },
            "colorscale": [
             [
              0,
              "#0d0887"
             ],
             [
              0.1111111111111111,
              "#46039f"
             ],
             [
              0.2222222222222222,
              "#7201a8"
             ],
             [
              0.3333333333333333,
              "#9c179e"
             ],
             [
              0.4444444444444444,
              "#bd3786"
             ],
             [
              0.5555555555555556,
              "#d8576b"
             ],
             [
              0.6666666666666666,
              "#ed7953"
             ],
             [
              0.7777777777777778,
              "#fb9f3a"
             ],
             [
              0.8888888888888888,
              "#fdca26"
             ],
             [
              1,
              "#f0f921"
             ]
            ],
            "type": "histogram2d"
           }
          ],
          "histogram2dcontour": [
           {
            "colorbar": {
             "outlinewidth": 0,
             "ticks": ""
            },
            "colorscale": [
             [
              0,
              "#0d0887"
             ],
             [
              0.1111111111111111,
              "#46039f"
             ],
             [
              0.2222222222222222,
              "#7201a8"
             ],
             [
              0.3333333333333333,
              "#9c179e"
             ],
             [
              0.4444444444444444,
              "#bd3786"
             ],
             [
              0.5555555555555556,
              "#d8576b"
             ],
             [
              0.6666666666666666,
              "#ed7953"
             ],
             [
              0.7777777777777778,
              "#fb9f3a"
             ],
             [
              0.8888888888888888,
              "#fdca26"
             ],
             [
              1,
              "#f0f921"
             ]
            ],
            "type": "histogram2dcontour"
           }
          ],
          "mesh3d": [
           {
            "colorbar": {
             "outlinewidth": 0,
             "ticks": ""
            },
            "type": "mesh3d"
           }
          ],
          "parcoords": [
           {
            "line": {
             "colorbar": {
              "outlinewidth": 0,
              "ticks": ""
             }
            },
            "type": "parcoords"
           }
          ],
          "pie": [
           {
            "automargin": true,
            "type": "pie"
           }
          ],
          "scatter": [
           {
            "fillpattern": {
             "fillmode": "overlay",
             "size": 10,
             "solidity": 0.2
            },
            "type": "scatter"
           }
          ],
          "scatter3d": [
           {
            "line": {
             "colorbar": {
              "outlinewidth": 0,
              "ticks": ""
             }
            },
            "marker": {
             "colorbar": {
              "outlinewidth": 0,
              "ticks": ""
             }
            },
            "type": "scatter3d"
           }
          ],
          "scattercarpet": [
           {
            "marker": {
             "colorbar": {
              "outlinewidth": 0,
              "ticks": ""
             }
            },
            "type": "scattercarpet"
           }
          ],
          "scattergeo": [
           {
            "marker": {
             "colorbar": {
              "outlinewidth": 0,
              "ticks": ""
             }
            },
            "type": "scattergeo"
           }
          ],
          "scattergl": [
           {
            "marker": {
             "colorbar": {
              "outlinewidth": 0,
              "ticks": ""
             }
            },
            "type": "scattergl"
           }
          ],
          "scattermapbox": [
           {
            "marker": {
             "colorbar": {
              "outlinewidth": 0,
              "ticks": ""
             }
            },
            "type": "scattermapbox"
           }
          ],
          "scatterpolar": [
           {
            "marker": {
             "colorbar": {
              "outlinewidth": 0,
              "ticks": ""
             }
            },
            "type": "scatterpolar"
           }
          ],
          "scatterpolargl": [
           {
            "marker": {
             "colorbar": {
              "outlinewidth": 0,
              "ticks": ""
             }
            },
            "type": "scatterpolargl"
           }
          ],
          "scatterternary": [
           {
            "marker": {
             "colorbar": {
              "outlinewidth": 0,
              "ticks": ""
             }
            },
            "type": "scatterternary"
           }
          ],
          "surface": [
           {
            "colorbar": {
             "outlinewidth": 0,
             "ticks": ""
            },
            "colorscale": [
             [
              0,
              "#0d0887"
             ],
             [
              0.1111111111111111,
              "#46039f"
             ],
             [
              0.2222222222222222,
              "#7201a8"
             ],
             [
              0.3333333333333333,
              "#9c179e"
             ],
             [
              0.4444444444444444,
              "#bd3786"
             ],
             [
              0.5555555555555556,
              "#d8576b"
             ],
             [
              0.6666666666666666,
              "#ed7953"
             ],
             [
              0.7777777777777778,
              "#fb9f3a"
             ],
             [
              0.8888888888888888,
              "#fdca26"
             ],
             [
              1,
              "#f0f921"
             ]
            ],
            "type": "surface"
           }
          ],
          "table": [
           {
            "cells": {
             "fill": {
              "color": "#EBF0F8"
             },
             "line": {
              "color": "white"
             }
            },
            "header": {
             "fill": {
              "color": "#C8D4E3"
             },
             "line": {
              "color": "white"
             }
            },
            "type": "table"
           }
          ]
         },
         "layout": {
          "annotationdefaults": {
           "arrowcolor": "#2a3f5f",
           "arrowhead": 0,
           "arrowwidth": 1
          },
          "autotypenumbers": "strict",
          "coloraxis": {
           "colorbar": {
            "outlinewidth": 0,
            "ticks": ""
           }
          },
          "colorscale": {
           "diverging": [
            [
             0,
             "#8e0152"
            ],
            [
             0.1,
             "#c51b7d"
            ],
            [
             0.2,
             "#de77ae"
            ],
            [
             0.3,
             "#f1b6da"
            ],
            [
             0.4,
             "#fde0ef"
            ],
            [
             0.5,
             "#f7f7f7"
            ],
            [
             0.6,
             "#e6f5d0"
            ],
            [
             0.7,
             "#b8e186"
            ],
            [
             0.8,
             "#7fbc41"
            ],
            [
             0.9,
             "#4d9221"
            ],
            [
             1,
             "#276419"
            ]
           ],
           "sequential": [
            [
             0,
             "#0d0887"
            ],
            [
             0.1111111111111111,
             "#46039f"
            ],
            [
             0.2222222222222222,
             "#7201a8"
            ],
            [
             0.3333333333333333,
             "#9c179e"
            ],
            [
             0.4444444444444444,
             "#bd3786"
            ],
            [
             0.5555555555555556,
             "#d8576b"
            ],
            [
             0.6666666666666666,
             "#ed7953"
            ],
            [
             0.7777777777777778,
             "#fb9f3a"
            ],
            [
             0.8888888888888888,
             "#fdca26"
            ],
            [
             1,
             "#f0f921"
            ]
           ],
           "sequentialminus": [
            [
             0,
             "#0d0887"
            ],
            [
             0.1111111111111111,
             "#46039f"
            ],
            [
             0.2222222222222222,
             "#7201a8"
            ],
            [
             0.3333333333333333,
             "#9c179e"
            ],
            [
             0.4444444444444444,
             "#bd3786"
            ],
            [
             0.5555555555555556,
             "#d8576b"
            ],
            [
             0.6666666666666666,
             "#ed7953"
            ],
            [
             0.7777777777777778,
             "#fb9f3a"
            ],
            [
             0.8888888888888888,
             "#fdca26"
            ],
            [
             1,
             "#f0f921"
            ]
           ]
          },
          "colorway": [
           "#636efa",
           "#EF553B",
           "#00cc96",
           "#ab63fa",
           "#FFA15A",
           "#19d3f3",
           "#FF6692",
           "#B6E880",
           "#FF97FF",
           "#FECB52"
          ],
          "font": {
           "color": "#2a3f5f"
          },
          "geo": {
           "bgcolor": "white",
           "lakecolor": "white",
           "landcolor": "#E5ECF6",
           "showlakes": true,
           "showland": true,
           "subunitcolor": "white"
          },
          "hoverlabel": {
           "align": "left"
          },
          "hovermode": "closest",
          "mapbox": {
           "style": "light"
          },
          "paper_bgcolor": "white",
          "plot_bgcolor": "#E5ECF6",
          "polar": {
           "angularaxis": {
            "gridcolor": "white",
            "linecolor": "white",
            "ticks": ""
           },
           "bgcolor": "#E5ECF6",
           "radialaxis": {
            "gridcolor": "white",
            "linecolor": "white",
            "ticks": ""
           }
          },
          "scene": {
           "xaxis": {
            "backgroundcolor": "#E5ECF6",
            "gridcolor": "white",
            "gridwidth": 2,
            "linecolor": "white",
            "showbackground": true,
            "ticks": "",
            "zerolinecolor": "white"
           },
           "yaxis": {
            "backgroundcolor": "#E5ECF6",
            "gridcolor": "white",
            "gridwidth": 2,
            "linecolor": "white",
            "showbackground": true,
            "ticks": "",
            "zerolinecolor": "white"
           },
           "zaxis": {
            "backgroundcolor": "#E5ECF6",
            "gridcolor": "white",
            "gridwidth": 2,
            "linecolor": "white",
            "showbackground": true,
            "ticks": "",
            "zerolinecolor": "white"
           }
          },
          "shapedefaults": {
           "line": {
            "color": "#2a3f5f"
           }
          },
          "ternary": {
           "aaxis": {
            "gridcolor": "white",
            "linecolor": "white",
            "ticks": ""
           },
           "baxis": {
            "gridcolor": "white",
            "linecolor": "white",
            "ticks": ""
           },
           "bgcolor": "#E5ECF6",
           "caxis": {
            "gridcolor": "white",
            "linecolor": "white",
            "ticks": ""
           }
          },
          "title": {
           "x": 0.05
          },
          "xaxis": {
           "automargin": true,
           "gridcolor": "white",
           "linecolor": "white",
           "ticks": "",
           "title": {
            "standoff": 15
           },
           "zerolinecolor": "white",
           "zerolinewidth": 2
          },
          "yaxis": {
           "automargin": true,
           "gridcolor": "white",
           "linecolor": "white",
           "ticks": "",
           "title": {
            "standoff": 15
           },
           "zerolinecolor": "white",
           "zerolinewidth": 2
          }
         }
        },
        "title": {
         "text": "Hyperparameter Importances"
        },
        "xaxis": {
         "title": {
          "text": "Hyperparameter Importance"
         }
        },
        "yaxis": {
         "title": {
          "text": "Hyperparameter"
         }
        }
       }
      }
     },
     "metadata": {},
     "output_type": "display_data"
    },
    {
     "data": {
      "application/vnd.plotly.v1+json": {
       "config": {
        "plotlyServerURL": "https://plot.ly"
       },
       "data": [
        {
         "colorbar": {
          "title": {
           "text": "Objective Value"
          }
         },
         "colorscale": [
          [
           0,
           "rgb(247,251,255)"
          ],
          [
           0.125,
           "rgb(222,235,247)"
          ],
          [
           0.25,
           "rgb(198,219,239)"
          ],
          [
           0.375,
           "rgb(158,202,225)"
          ],
          [
           0.5,
           "rgb(107,174,214)"
          ],
          [
           0.625,
           "rgb(66,146,198)"
          ],
          [
           0.75,
           "rgb(33,113,181)"
          ],
          [
           0.875,
           "rgb(8,81,156)"
          ],
          [
           1,
           "rgb(8,48,107)"
          ]
         ],
         "connectgaps": true,
         "contours": {
          "coloring": "heatmap"
         },
         "hoverinfo": "none",
         "line": {
          "smoothing": 1.3
         },
         "reversescale": false,
         "type": "contour",
         "x": [
          0.0000071055498510708565,
          0.000010440650743837625,
          0.000025611282405505576,
          0.000058505099396434635,
          0.00019092902008723998,
          0.0005546741491099429,
          0.0008384081250023965,
          0.001622198732503443,
          0.002425155279208925,
          0.0033370176409364435,
          0.004291981635112356,
          0.005253997290748795,
          0.00617160960430692,
          0.008896639100810481,
          0.010362374766982327,
          0.01052212768242797,
          0.022978682122811234,
          0.033764085767659595
         ],
         "y": [
          0.000006620643186768119,
          0.000010301587031377691,
          0.000012360417404745713,
          0.000013105066897093324,
          0.00003310817977146432,
          0.00003719891809511638,
          0.000053825555518602365,
          0.00011871333672275946,
          0.00012564636958146277,
          0.0003179387764512751,
          0.0004625004079101799,
          0.0007543022655780234,
          0.0011216392284551248,
          0.006687438779979216,
          0.018428213667987064,
          0.059805398223474256,
          0.07128254592201888,
          0.11091420122163625
         ],
         "z": [
          [
           null,
           null,
           null,
           null,
           null,
           null,
           null,
           null,
           null,
           null,
           null,
           null,
           null,
           null,
           null,
           null,
           null,
           null
          ],
          [
           null,
           null,
           null,
           null,
           null,
           null,
           null,
           null,
           null,
           null,
           0.5349999666213989,
           null,
           null,
           null,
           null,
           null,
           null,
           null
          ],
          [
           null,
           null,
           null,
           null,
           null,
           null,
           null,
           null,
           null,
           null,
           null,
           0.4650000035762787,
           null,
           null,
           null,
           null,
           null,
           null
          ],
          [
           null,
           null,
           null,
           null,
           null,
           null,
           null,
           null,
           null,
           null,
           null,
           null,
           null,
           0.5299999713897705,
           null,
           null,
           null,
           null
          ],
          [
           null,
           null,
           null,
           null,
           null,
           null,
           null,
           null,
           null,
           null,
           null,
           null,
           null,
           null,
           0.4949999749660492,
           null,
           null,
           null
          ],
          [
           null,
           null,
           null,
           null,
           null,
           null,
           null,
           0.5,
           null,
           null,
           null,
           null,
           null,
           null,
           null,
           null,
           null,
           null
          ],
          [
           null,
           null,
           null,
           null,
           null,
           null,
           null,
           null,
           null,
           0.4949999749660492,
           null,
           null,
           null,
           null,
           null,
           null,
           null,
           null
          ],
          [
           null,
           null,
           null,
           null,
           null,
           null,
           0.5,
           null,
           null,
           null,
           null,
           null,
           null,
           null,
           null,
           null,
           null,
           null
          ],
          [
           null,
           null,
           null,
           null,
           null,
           null,
           null,
           null,
           0.5399999618530273,
           null,
           null,
           null,
           null,
           null,
           null,
           null,
           null,
           null
          ],
          [
           null,
           null,
           null,
           null,
           null,
           null,
           null,
           null,
           null,
           null,
           null,
           null,
           null,
           null,
           null,
           null,
           0.4399999976158142,
           null
          ],
          [
           null,
           null,
           null,
           null,
           null,
           0.48500001430511475,
           null,
           null,
           null,
           null,
           null,
           null,
           null,
           null,
           null,
           null,
           null,
           null
          ],
          [
           null,
           null,
           null,
           null,
           null,
           null,
           null,
           null,
           null,
           null,
           null,
           null,
           null,
           null,
           null,
           0.5249999761581421,
           null,
           null
          ],
          [
           null,
           null,
           0.26499998569488525,
           null,
           null,
           null,
           null,
           null,
           null,
           null,
           null,
           null,
           null,
           null,
           null,
           null,
           null,
           null
          ],
          [
           null,
           null,
           null,
           null,
           null,
           null,
           null,
           null,
           null,
           null,
           null,
           null,
           0.4899999499320984,
           null,
           null,
           null,
           null,
           null
          ],
          [
           null,
           null,
           null,
           null,
           0.41499999165534973,
           null,
           null,
           null,
           null,
           null,
           null,
           null,
           null,
           null,
           null,
           null,
           null,
           null
          ],
          [
           null,
           0.19999998807907104,
           null,
           null,
           null,
           null,
           null,
           null,
           null,
           null,
           null,
           null,
           null,
           null,
           null,
           null,
           null,
           null
          ],
          [
           null,
           null,
           null,
           0.33000001311302185,
           null,
           null,
           null,
           null,
           null,
           null,
           null,
           null,
           null,
           null,
           null,
           null,
           null,
           null
          ],
          [
           null,
           null,
           null,
           null,
           null,
           null,
           null,
           null,
           null,
           null,
           null,
           null,
           null,
           null,
           null,
           null,
           null,
           null
          ]
         ]
        },
        {
         "marker": {
          "color": "black",
          "line": {
           "color": "Gray",
           "width": 2
          }
         },
         "mode": "markers",
         "name": "Feasible Trial",
         "showlegend": false,
         "type": "scatter",
         "x": [
          0.000058505099396434635,
          0.00019092902008723998,
          0.000025611282405505576,
          0.0005546741491099429,
          0.000010440650743837625,
          0.01052212768242797,
          0.001622198732503443,
          0.022978682122811234,
          0.008896639100810481,
          0.004291981635112356,
          0.005253997290748795,
          0.0033370176409364435,
          0.0008384081250023965,
          0.00617160960430692,
          0.002425155279208925,
          0.010362374766982327
         ],
         "y": [
          0.07128254592201888,
          0.018428213667987064,
          0.0011216392284551248,
          0.0004625004079101799,
          0.059805398223474256,
          0.0007543022655780234,
          0.00003719891809511638,
          0.0003179387764512751,
          0.000013105066897093324,
          0.000010301587031377691,
          0.000012360417404745713,
          0.000053825555518602365,
          0.00011871333672275946,
          0.006687438779979216,
          0.00012564636958146277,
          0.00003310817977146432
         ]
        },
        {
         "marker": {
          "color": "#cccccc",
          "line": {
           "color": "Gray",
           "width": 2
          }
         },
         "mode": "markers",
         "name": "Infeasible Trial",
         "showlegend": false,
         "type": "scatter",
         "x": [],
         "y": []
        }
       ],
       "layout": {
        "template": {
         "data": {
          "bar": [
           {
            "error_x": {
             "color": "#2a3f5f"
            },
            "error_y": {
             "color": "#2a3f5f"
            },
            "marker": {
             "line": {
              "color": "#E5ECF6",
              "width": 0.5
             },
             "pattern": {
              "fillmode": "overlay",
              "size": 10,
              "solidity": 0.2
             }
            },
            "type": "bar"
           }
          ],
          "barpolar": [
           {
            "marker": {
             "line": {
              "color": "#E5ECF6",
              "width": 0.5
             },
             "pattern": {
              "fillmode": "overlay",
              "size": 10,
              "solidity": 0.2
             }
            },
            "type": "barpolar"
           }
          ],
          "carpet": [
           {
            "aaxis": {
             "endlinecolor": "#2a3f5f",
             "gridcolor": "white",
             "linecolor": "white",
             "minorgridcolor": "white",
             "startlinecolor": "#2a3f5f"
            },
            "baxis": {
             "endlinecolor": "#2a3f5f",
             "gridcolor": "white",
             "linecolor": "white",
             "minorgridcolor": "white",
             "startlinecolor": "#2a3f5f"
            },
            "type": "carpet"
           }
          ],
          "choropleth": [
           {
            "colorbar": {
             "outlinewidth": 0,
             "ticks": ""
            },
            "type": "choropleth"
           }
          ],
          "contour": [
           {
            "colorbar": {
             "outlinewidth": 0,
             "ticks": ""
            },
            "colorscale": [
             [
              0,
              "#0d0887"
             ],
             [
              0.1111111111111111,
              "#46039f"
             ],
             [
              0.2222222222222222,
              "#7201a8"
             ],
             [
              0.3333333333333333,
              "#9c179e"
             ],
             [
              0.4444444444444444,
              "#bd3786"
             ],
             [
              0.5555555555555556,
              "#d8576b"
             ],
             [
              0.6666666666666666,
              "#ed7953"
             ],
             [
              0.7777777777777778,
              "#fb9f3a"
             ],
             [
              0.8888888888888888,
              "#fdca26"
             ],
             [
              1,
              "#f0f921"
             ]
            ],
            "type": "contour"
           }
          ],
          "contourcarpet": [
           {
            "colorbar": {
             "outlinewidth": 0,
             "ticks": ""
            },
            "type": "contourcarpet"
           }
          ],
          "heatmap": [
           {
            "colorbar": {
             "outlinewidth": 0,
             "ticks": ""
            },
            "colorscale": [
             [
              0,
              "#0d0887"
             ],
             [
              0.1111111111111111,
              "#46039f"
             ],
             [
              0.2222222222222222,
              "#7201a8"
             ],
             [
              0.3333333333333333,
              "#9c179e"
             ],
             [
              0.4444444444444444,
              "#bd3786"
             ],
             [
              0.5555555555555556,
              "#d8576b"
             ],
             [
              0.6666666666666666,
              "#ed7953"
             ],
             [
              0.7777777777777778,
              "#fb9f3a"
             ],
             [
              0.8888888888888888,
              "#fdca26"
             ],
             [
              1,
              "#f0f921"
             ]
            ],
            "type": "heatmap"
           }
          ],
          "heatmapgl": [
           {
            "colorbar": {
             "outlinewidth": 0,
             "ticks": ""
            },
            "colorscale": [
             [
              0,
              "#0d0887"
             ],
             [
              0.1111111111111111,
              "#46039f"
             ],
             [
              0.2222222222222222,
              "#7201a8"
             ],
             [
              0.3333333333333333,
              "#9c179e"
             ],
             [
              0.4444444444444444,
              "#bd3786"
             ],
             [
              0.5555555555555556,
              "#d8576b"
             ],
             [
              0.6666666666666666,
              "#ed7953"
             ],
             [
              0.7777777777777778,
              "#fb9f3a"
             ],
             [
              0.8888888888888888,
              "#fdca26"
             ],
             [
              1,
              "#f0f921"
             ]
            ],
            "type": "heatmapgl"
           }
          ],
          "histogram": [
           {
            "marker": {
             "pattern": {
              "fillmode": "overlay",
              "size": 10,
              "solidity": 0.2
             }
            },
            "type": "histogram"
           }
          ],
          "histogram2d": [
           {
            "colorbar": {
             "outlinewidth": 0,
             "ticks": ""
            },
            "colorscale": [
             [
              0,
              "#0d0887"
             ],
             [
              0.1111111111111111,
              "#46039f"
             ],
             [
              0.2222222222222222,
              "#7201a8"
             ],
             [
              0.3333333333333333,
              "#9c179e"
             ],
             [
              0.4444444444444444,
              "#bd3786"
             ],
             [
              0.5555555555555556,
              "#d8576b"
             ],
             [
              0.6666666666666666,
              "#ed7953"
             ],
             [
              0.7777777777777778,
              "#fb9f3a"
             ],
             [
              0.8888888888888888,
              "#fdca26"
             ],
             [
              1,
              "#f0f921"
             ]
            ],
            "type": "histogram2d"
           }
          ],
          "histogram2dcontour": [
           {
            "colorbar": {
             "outlinewidth": 0,
             "ticks": ""
            },
            "colorscale": [
             [
              0,
              "#0d0887"
             ],
             [
              0.1111111111111111,
              "#46039f"
             ],
             [
              0.2222222222222222,
              "#7201a8"
             ],
             [
              0.3333333333333333,
              "#9c179e"
             ],
             [
              0.4444444444444444,
              "#bd3786"
             ],
             [
              0.5555555555555556,
              "#d8576b"
             ],
             [
              0.6666666666666666,
              "#ed7953"
             ],
             [
              0.7777777777777778,
              "#fb9f3a"
             ],
             [
              0.8888888888888888,
              "#fdca26"
             ],
             [
              1,
              "#f0f921"
             ]
            ],
            "type": "histogram2dcontour"
           }
          ],
          "mesh3d": [
           {
            "colorbar": {
             "outlinewidth": 0,
             "ticks": ""
            },
            "type": "mesh3d"
           }
          ],
          "parcoords": [
           {
            "line": {
             "colorbar": {
              "outlinewidth": 0,
              "ticks": ""
             }
            },
            "type": "parcoords"
           }
          ],
          "pie": [
           {
            "automargin": true,
            "type": "pie"
           }
          ],
          "scatter": [
           {
            "fillpattern": {
             "fillmode": "overlay",
             "size": 10,
             "solidity": 0.2
            },
            "type": "scatter"
           }
          ],
          "scatter3d": [
           {
            "line": {
             "colorbar": {
              "outlinewidth": 0,
              "ticks": ""
             }
            },
            "marker": {
             "colorbar": {
              "outlinewidth": 0,
              "ticks": ""
             }
            },
            "type": "scatter3d"
           }
          ],
          "scattercarpet": [
           {
            "marker": {
             "colorbar": {
              "outlinewidth": 0,
              "ticks": ""
             }
            },
            "type": "scattercarpet"
           }
          ],
          "scattergeo": [
           {
            "marker": {
             "colorbar": {
              "outlinewidth": 0,
              "ticks": ""
             }
            },
            "type": "scattergeo"
           }
          ],
          "scattergl": [
           {
            "marker": {
             "colorbar": {
              "outlinewidth": 0,
              "ticks": ""
             }
            },
            "type": "scattergl"
           }
          ],
          "scattermapbox": [
           {
            "marker": {
             "colorbar": {
              "outlinewidth": 0,
              "ticks": ""
             }
            },
            "type": "scattermapbox"
           }
          ],
          "scatterpolar": [
           {
            "marker": {
             "colorbar": {
              "outlinewidth": 0,
              "ticks": ""
             }
            },
            "type": "scatterpolar"
           }
          ],
          "scatterpolargl": [
           {
            "marker": {
             "colorbar": {
              "outlinewidth": 0,
              "ticks": ""
             }
            },
            "type": "scatterpolargl"
           }
          ],
          "scatterternary": [
           {
            "marker": {
             "colorbar": {
              "outlinewidth": 0,
              "ticks": ""
             }
            },
            "type": "scatterternary"
           }
          ],
          "surface": [
           {
            "colorbar": {
             "outlinewidth": 0,
             "ticks": ""
            },
            "colorscale": [
             [
              0,
              "#0d0887"
             ],
             [
              0.1111111111111111,
              "#46039f"
             ],
             [
              0.2222222222222222,
              "#7201a8"
             ],
             [
              0.3333333333333333,
              "#9c179e"
             ],
             [
              0.4444444444444444,
              "#bd3786"
             ],
             [
              0.5555555555555556,
              "#d8576b"
             ],
             [
              0.6666666666666666,
              "#ed7953"
             ],
             [
              0.7777777777777778,
              "#fb9f3a"
             ],
             [
              0.8888888888888888,
              "#fdca26"
             ],
             [
              1,
              "#f0f921"
             ]
            ],
            "type": "surface"
           }
          ],
          "table": [
           {
            "cells": {
             "fill": {
              "color": "#EBF0F8"
             },
             "line": {
              "color": "white"
             }
            },
            "header": {
             "fill": {
              "color": "#C8D4E3"
             },
             "line": {
              "color": "white"
             }
            },
            "type": "table"
           }
          ]
         },
         "layout": {
          "annotationdefaults": {
           "arrowcolor": "#2a3f5f",
           "arrowhead": 0,
           "arrowwidth": 1
          },
          "autotypenumbers": "strict",
          "coloraxis": {
           "colorbar": {
            "outlinewidth": 0,
            "ticks": ""
           }
          },
          "colorscale": {
           "diverging": [
            [
             0,
             "#8e0152"
            ],
            [
             0.1,
             "#c51b7d"
            ],
            [
             0.2,
             "#de77ae"
            ],
            [
             0.3,
             "#f1b6da"
            ],
            [
             0.4,
             "#fde0ef"
            ],
            [
             0.5,
             "#f7f7f7"
            ],
            [
             0.6,
             "#e6f5d0"
            ],
            [
             0.7,
             "#b8e186"
            ],
            [
             0.8,
             "#7fbc41"
            ],
            [
             0.9,
             "#4d9221"
            ],
            [
             1,
             "#276419"
            ]
           ],
           "sequential": [
            [
             0,
             "#0d0887"
            ],
            [
             0.1111111111111111,
             "#46039f"
            ],
            [
             0.2222222222222222,
             "#7201a8"
            ],
            [
             0.3333333333333333,
             "#9c179e"
            ],
            [
             0.4444444444444444,
             "#bd3786"
            ],
            [
             0.5555555555555556,
             "#d8576b"
            ],
            [
             0.6666666666666666,
             "#ed7953"
            ],
            [
             0.7777777777777778,
             "#fb9f3a"
            ],
            [
             0.8888888888888888,
             "#fdca26"
            ],
            [
             1,
             "#f0f921"
            ]
           ],
           "sequentialminus": [
            [
             0,
             "#0d0887"
            ],
            [
             0.1111111111111111,
             "#46039f"
            ],
            [
             0.2222222222222222,
             "#7201a8"
            ],
            [
             0.3333333333333333,
             "#9c179e"
            ],
            [
             0.4444444444444444,
             "#bd3786"
            ],
            [
             0.5555555555555556,
             "#d8576b"
            ],
            [
             0.6666666666666666,
             "#ed7953"
            ],
            [
             0.7777777777777778,
             "#fb9f3a"
            ],
            [
             0.8888888888888888,
             "#fdca26"
            ],
            [
             1,
             "#f0f921"
            ]
           ]
          },
          "colorway": [
           "#636efa",
           "#EF553B",
           "#00cc96",
           "#ab63fa",
           "#FFA15A",
           "#19d3f3",
           "#FF6692",
           "#B6E880",
           "#FF97FF",
           "#FECB52"
          ],
          "font": {
           "color": "#2a3f5f"
          },
          "geo": {
           "bgcolor": "white",
           "lakecolor": "white",
           "landcolor": "#E5ECF6",
           "showlakes": true,
           "showland": true,
           "subunitcolor": "white"
          },
          "hoverlabel": {
           "align": "left"
          },
          "hovermode": "closest",
          "mapbox": {
           "style": "light"
          },
          "paper_bgcolor": "white",
          "plot_bgcolor": "#E5ECF6",
          "polar": {
           "angularaxis": {
            "gridcolor": "white",
            "linecolor": "white",
            "ticks": ""
           },
           "bgcolor": "#E5ECF6",
           "radialaxis": {
            "gridcolor": "white",
            "linecolor": "white",
            "ticks": ""
           }
          },
          "scene": {
           "xaxis": {
            "backgroundcolor": "#E5ECF6",
            "gridcolor": "white",
            "gridwidth": 2,
            "linecolor": "white",
            "showbackground": true,
            "ticks": "",
            "zerolinecolor": "white"
           },
           "yaxis": {
            "backgroundcolor": "#E5ECF6",
            "gridcolor": "white",
            "gridwidth": 2,
            "linecolor": "white",
            "showbackground": true,
            "ticks": "",
            "zerolinecolor": "white"
           },
           "zaxis": {
            "backgroundcolor": "#E5ECF6",
            "gridcolor": "white",
            "gridwidth": 2,
            "linecolor": "white",
            "showbackground": true,
            "ticks": "",
            "zerolinecolor": "white"
           }
          },
          "shapedefaults": {
           "line": {
            "color": "#2a3f5f"
           }
          },
          "ternary": {
           "aaxis": {
            "gridcolor": "white",
            "linecolor": "white",
            "ticks": ""
           },
           "baxis": {
            "gridcolor": "white",
            "linecolor": "white",
            "ticks": ""
           },
           "bgcolor": "#E5ECF6",
           "caxis": {
            "gridcolor": "white",
            "linecolor": "white",
            "ticks": ""
           }
          },
          "title": {
           "x": 0.05
          },
          "xaxis": {
           "automargin": true,
           "gridcolor": "white",
           "linecolor": "white",
           "ticks": "",
           "title": {
            "standoff": 15
           },
           "zerolinecolor": "white",
           "zerolinewidth": 2
          },
          "yaxis": {
           "automargin": true,
           "gridcolor": "white",
           "linecolor": "white",
           "ticks": "",
           "title": {
            "standoff": 15
           },
           "zerolinecolor": "white",
           "zerolinewidth": 2
          }
         }
        },
        "title": {
         "text": "Contour Plot"
        },
        "xaxis": {
         "range": [
          -5.148402309285246,
          -1.471545005204453
         ],
         "title": {
          "text": "lr"
         },
         "type": "log"
        },
        "yaxis": {
         "range": [
          -5.179099817373684,
          -0.9550128441363368
         ],
         "title": {
          "text": "weight_decay"
         },
         "type": "log"
        }
       }
      }
     },
     "metadata": {},
     "output_type": "display_data"
    }
   ],
   "source": [
    "trial = study.best_trial\n",
    "print(f\"Best Validation Accuracy: {trial.value:4.2%}\")\n",
    "print(f\"Best Params:\")\n",
    "for key, value in trial.params.items():\n",
    "    print(f\"-> {key}: {value}\")\n",
    "\n",
    "fig = optuna.visualization.plot_intermediate_values(study)\n",
    "fig.show()\n",
    "fig = optuna.visualization.plot_param_importances(study)\n",
    "fig.show()\n",
    "fig = optuna.visualization.plot_contour(study, params=[\"lr\", \"weight_decay\"])\n",
    "fig.show()"
   ]
  },
  {
   "cell_type": "code",
   "execution_count": null,
   "metadata": {},
   "outputs": [],
   "source": []
  }
 ],
 "metadata": {
  "kernelspec": {
   "display_name": "thesis_env",
   "language": "python",
   "name": "python3"
  },
  "language_info": {
   "codemirror_mode": {
    "name": "ipython",
    "version": 3
   },
   "file_extension": ".py",
   "mimetype": "text/x-python",
   "name": "python",
   "nbconvert_exporter": "python",
   "pygments_lexer": "ipython3",
   "version": "3.11.8"
  }
 },
 "nbformat": 4,
 "nbformat_minor": 2
}
